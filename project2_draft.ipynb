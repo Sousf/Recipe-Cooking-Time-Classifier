{
 "cells": [
  {
   "cell_type": "code",
   "execution_count": 4,
   "id": "5b16a173",
   "metadata": {},
   "outputs": [],
   "source": [
    "import pandas as pd\n",
    "import numpy as np\n",
    "import matplotlib.pyplot as plt\n",
    "import imblearn\n",
    "from imblearn.over_sampling import RandomOverSampler"
   ]
  },
  {
   "cell_type": "markdown",
   "id": "02d2369b",
   "metadata": {},
   "source": [
    "# train data provided"
   ]
  },
  {
   "cell_type": "code",
   "execution_count": 7,
   "id": "66664cc1",
   "metadata": {},
   "outputs": [
    {
     "data": {
      "text/html": [
       "<div>\n",
       "<style scoped>\n",
       "    .dataframe tbody tr th:only-of-type {\n",
       "        vertical-align: middle;\n",
       "    }\n",
       "\n",
       "    .dataframe tbody tr th {\n",
       "        vertical-align: top;\n",
       "    }\n",
       "\n",
       "    .dataframe thead th {\n",
       "        text-align: right;\n",
       "    }\n",
       "</style>\n",
       "<table border=\"1\" class=\"dataframe\">\n",
       "  <thead>\n",
       "    <tr style=\"text-align: right;\">\n",
       "      <th></th>\n",
       "      <th>name</th>\n",
       "      <th>n_steps</th>\n",
       "      <th>n_ingredients</th>\n",
       "      <th>steps</th>\n",
       "      <th>ingredients</th>\n",
       "      <th>duration_label</th>\n",
       "    </tr>\n",
       "  </thead>\n",
       "  <tbody>\n",
       "    <tr>\n",
       "      <th>0</th>\n",
       "      <td>wi gal s chicken rice stove top dish made heal...</td>\n",
       "      <td>6</td>\n",
       "      <td>12</td>\n",
       "      <td>['in saucepan , melt margarine and combine wit...</td>\n",
       "      <td>['margarine', 'olive oil', 'celery', 'onion', ...</td>\n",
       "      <td>2.0</td>\n",
       "    </tr>\n",
       "    <tr>\n",
       "      <th>1</th>\n",
       "      <td>irish pin oats</td>\n",
       "      <td>9</td>\n",
       "      <td>5</td>\n",
       "      <td>['melt 1 tbs butter in a small saucepan over m...</td>\n",
       "      <td>['butter', 'pinhead oats', 'water', 'half-and-...</td>\n",
       "      <td>2.0</td>\n",
       "    </tr>\n",
       "    <tr>\n",
       "      <th>2</th>\n",
       "      <td>cheesy beef   n biscuit casserole</td>\n",
       "      <td>15</td>\n",
       "      <td>10</td>\n",
       "      <td>['brown ground beef , onion and green pepper',...</td>\n",
       "      <td>['ground beef', 'onion', 'green pepper', 'toma...</td>\n",
       "      <td>2.0</td>\n",
       "    </tr>\n",
       "    <tr>\n",
       "      <th>3</th>\n",
       "      <td>lemonade chicken  oamc</td>\n",
       "      <td>10</td>\n",
       "      <td>8</td>\n",
       "      <td>['brown chicken in oil', 'combine all ingredie...</td>\n",
       "      <td>['boneless skinless chicken', 'frozen lemonade...</td>\n",
       "      <td>2.0</td>\n",
       "    </tr>\n",
       "    <tr>\n",
       "      <th>4</th>\n",
       "      <td>graham and peanut butter bon bons</td>\n",
       "      <td>6</td>\n",
       "      <td>5</td>\n",
       "      <td>['set almond bark aside', 'mix remaining ingre...</td>\n",
       "      <td>['graham cracker crumbs', 'crunchy peanut butt...</td>\n",
       "      <td>2.0</td>\n",
       "    </tr>\n",
       "    <tr>\n",
       "      <th>...</th>\n",
       "      <td>...</td>\n",
       "      <td>...</td>\n",
       "      <td>...</td>\n",
       "      <td>...</td>\n",
       "      <td>...</td>\n",
       "      <td>...</td>\n",
       "    </tr>\n",
       "    <tr>\n",
       "      <th>39995</th>\n",
       "      <td>sour cream lemon bread  abm</td>\n",
       "      <td>6</td>\n",
       "      <td>13</td>\n",
       "      <td>['in a measuring cup , combine sour cream and ...</td>\n",
       "      <td>['sour cream', 'lemon juice', 'milk', 'butter'...</td>\n",
       "      <td>1.0</td>\n",
       "    </tr>\n",
       "    <tr>\n",
       "      <th>39996</th>\n",
       "      <td>americanized shepherd s pie</td>\n",
       "      <td>15</td>\n",
       "      <td>16</td>\n",
       "      <td>['preheat oven to 350 degrees', 'add potatoes ...</td>\n",
       "      <td>['potatoes', 'butter', 'milk', 'olive oil', 'o...</td>\n",
       "      <td>2.0</td>\n",
       "    </tr>\n",
       "    <tr>\n",
       "      <th>39997</th>\n",
       "      <td>new zealand kiwi salsa</td>\n",
       "      <td>5</td>\n",
       "      <td>8</td>\n",
       "      <td>['place the kiwifruit , pomegranate seeds , av...</td>\n",
       "      <td>['kiwi fruits', 'pomegranate seeds', 'avocado'...</td>\n",
       "      <td>1.0</td>\n",
       "    </tr>\n",
       "    <tr>\n",
       "      <th>39998</th>\n",
       "      <td>meat and vegetable shepherd s pie</td>\n",
       "      <td>7</td>\n",
       "      <td>17</td>\n",
       "      <td>['in a large , deep frying pan , heat oil over...</td>\n",
       "      <td>['oil', 'onions', 'garlic cloves', 'minced bee...</td>\n",
       "      <td>2.0</td>\n",
       "    </tr>\n",
       "    <tr>\n",
       "      <th>39999</th>\n",
       "      <td>gloria pitzer s famous dave s style secret bbq...</td>\n",
       "      <td>6</td>\n",
       "      <td>11</td>\n",
       "      <td>['mix all ingredients in a saucepan and simmer...</td>\n",
       "      <td>['worcestershire sauce', 'ketchup', 'black cof...</td>\n",
       "      <td>2.0</td>\n",
       "    </tr>\n",
       "  </tbody>\n",
       "</table>\n",
       "<p>40000 rows × 6 columns</p>\n",
       "</div>"
      ],
      "text/plain": [
       "                                                    name  n_steps  \\\n",
       "0      wi gal s chicken rice stove top dish made heal...        6   \n",
       "1                                         irish pin oats        9   \n",
       "2                      cheesy beef   n biscuit casserole       15   \n",
       "3                                 lemonade chicken  oamc       10   \n",
       "4                      graham and peanut butter bon bons        6   \n",
       "...                                                  ...      ...   \n",
       "39995                        sour cream lemon bread  abm        6   \n",
       "39996                        americanized shepherd s pie       15   \n",
       "39997                             new zealand kiwi salsa        5   \n",
       "39998                  meat and vegetable shepherd s pie        7   \n",
       "39999  gloria pitzer s famous dave s style secret bbq...        6   \n",
       "\n",
       "       n_ingredients                                              steps  \\\n",
       "0                 12  ['in saucepan , melt margarine and combine wit...   \n",
       "1                  5  ['melt 1 tbs butter in a small saucepan over m...   \n",
       "2                 10  ['brown ground beef , onion and green pepper',...   \n",
       "3                  8  ['brown chicken in oil', 'combine all ingredie...   \n",
       "4                  5  ['set almond bark aside', 'mix remaining ingre...   \n",
       "...              ...                                                ...   \n",
       "39995             13  ['in a measuring cup , combine sour cream and ...   \n",
       "39996             16  ['preheat oven to 350 degrees', 'add potatoes ...   \n",
       "39997              8  ['place the kiwifruit , pomegranate seeds , av...   \n",
       "39998             17  ['in a large , deep frying pan , heat oil over...   \n",
       "39999             11  ['mix all ingredients in a saucepan and simmer...   \n",
       "\n",
       "                                             ingredients  duration_label  \n",
       "0      ['margarine', 'olive oil', 'celery', 'onion', ...             2.0  \n",
       "1      ['butter', 'pinhead oats', 'water', 'half-and-...             2.0  \n",
       "2      ['ground beef', 'onion', 'green pepper', 'toma...             2.0  \n",
       "3      ['boneless skinless chicken', 'frozen lemonade...             2.0  \n",
       "4      ['graham cracker crumbs', 'crunchy peanut butt...             2.0  \n",
       "...                                                  ...             ...  \n",
       "39995  ['sour cream', 'lemon juice', 'milk', 'butter'...             1.0  \n",
       "39996  ['potatoes', 'butter', 'milk', 'olive oil', 'o...             2.0  \n",
       "39997  ['kiwi fruits', 'pomegranate seeds', 'avocado'...             1.0  \n",
       "39998  ['oil', 'onions', 'garlic cloves', 'minced bee...             2.0  \n",
       "39999  ['worcestershire sauce', 'ketchup', 'black cof...             2.0  \n",
       "\n",
       "[40000 rows x 6 columns]"
      ]
     },
     "execution_count": 7,
     "metadata": {},
     "output_type": "execute_result"
    }
   ],
   "source": [
    "data_train = pd.read_csv('recipe_train.csv')\n",
    "data_train"
   ]
  },
  {
   "cell_type": "markdown",
   "id": "7a2b0bae",
   "metadata": {},
   "source": [
    "# train data label distribution\n",
    "### conclusion : not equally distributed\n",
    "### possible effect : cause some problem to our model --> e.g. model doesn't recognise label 3.0 bc only 2049/40000=0.0512 --> could do some improvement here?"
   ]
  },
  {
   "cell_type": "code",
   "execution_count": 5,
   "id": "6448725a",
   "metadata": {},
   "outputs": [
    {
     "data": {
      "text/plain": [
       "2.0    20246\n",
       "1.0    17705\n",
       "3.0     2049\n",
       "Name: duration_label, dtype: int64"
      ]
     },
     "execution_count": 5,
     "metadata": {},
     "output_type": "execute_result"
    }
   ],
   "source": [
    "data_train['duration_label'].value_counts()"
   ]
  },
  {
   "cell_type": "markdown",
   "id": "d3cbe93b",
   "metadata": {},
   "source": [
    "## text feature\n",
    "### 'steps', 'ingredients' are string of list of string.....lol\n",
    "### solution: convert to list using eval() which recognises data structure inside string and convert to that type"
   ]
  },
  {
   "cell_type": "code",
   "execution_count": 8,
   "id": "608e4f51",
   "metadata": {},
   "outputs": [
    {
     "data": {
      "text/plain": [
       "['in saucepan , melt margarine and combine with olive oil',\n",
       " 'add celery & onion and saute until tender',\n",
       " 'add garlic for the last minute',\n",
       " 'add carrots , broth , rice and pepper and bring to a boil',\n",
       " 'reduce heat , cover , and simmer for 35 minutes , or until rice is tender',\n",
       " 'stir in chicken and parsley , cover , and simmer for 5 minutes longer or until heated through']"
      ]
     },
     "execution_count": 8,
     "metadata": {},
     "output_type": "execute_result"
    }
   ],
   "source": [
    "data_train.loc[0, 'steps']\n",
    "data_train['steps'] = data_train['steps'].apply(eval) #apply func on every element \n",
    "data_train['ingredients'] = data_train['ingredients'].apply(eval)\n",
    "data_train.loc[0, 'steps']"
   ]
  },
  {
   "cell_type": "markdown",
   "id": "5f3b1791",
   "metadata": {},
   "source": [
    "# use 'steps' feature to check (has the most information) \n",
    "### --> need to select/combine other features later !! this is just a rough checking on one feature\n",
    "#### useful information in 'steps'---> time + ingredients appeared in 'steps' bc : \n",
    "    time directly indicates the duration needed\n",
    "    ingredients also somewhat shows how much time needed"
   ]
  },
  {
   "cell_type": "markdown",
   "id": "3f3786eb",
   "metadata": {},
   "source": [
    "### ignore 2 code cells below "
   ]
  },
  {
   "cell_type": "code",
   "execution_count": 35,
   "id": "77539c00",
   "metadata": {},
   "outputs": [
    {
     "name": "stdout",
     "output_type": "stream",
     "text": [
      "['none']\n",
      "['combine cake mix , egg , and 1 / 2 cup butter in a bowl pour batter into an ungreased 9x13 baking dish bake at 350 for 12-15 minutes remove from oven , and while still hot , sprinkle marshmallows on top melt corn syrup , remaining 1 / 4 cup butter , vanilla and peanut butter chips in a saucepan melt and mix until smooth add peanuts and rice krispies last mix well and spread over top of marshmallow / cakemix mixture allow to cool before slicing into cookies']\n"
     ]
    }
   ],
   "source": [
    "# view some instances\n",
    "min_steps = data_train['n_steps'].min()\n",
    "# min_steps = 1\n",
    "min_step_meals = data_train.loc[data_train['n_steps'] == min_steps, 'steps'] #find all min steps in all instances\n",
    "shortest, longest = min_step_meals.apply(lambda x: len(x[0])).sort_values().index[[0, -1]]\n",
    "print(min_step_meals[shortest])\n",
    "print(min_step_meals[longest])"
   ]
  },
  {
   "cell_type": "markdown",
   "id": "fef4c62c",
   "metadata": {},
   "source": [
    "### check which recipe used most ingredients"
   ]
  },
  {
   "cell_type": "code",
   "execution_count": 36,
   "id": "fdec3171",
   "metadata": {},
   "outputs": [
    {
     "name": "stdout",
     "output_type": "stream",
     "text": [
      "most_ingredients_instance is at  38958\n",
      "length of most_ingredients_instance is 40\n",
      "['preheat oven to 500f', 'chop fine the reserved turkey fat', 'in a small saucepan set over moderate heat , combine the reserved fat with 1 / 2 cup of the water', 'bring to a boil and simmer until all the water has evaporated and only clear fat and small pieces of solid remain', 'reserve fat for stuffing', 'season the inside of the turkey with salt and pepper', 'rub the skin all over with the oil and season with salt and pepper', 'prepare the giblets for the basting liquid', 'bring to a boil and simmer the entire time you for basting', 'add more water as needed', 'meat mixture: melt butter & brown veal , pork', 'cool and add to bread crumbs , combine >', 'make the dressing:', 'prep bowl of fruits : combine all ingredients', 'prep bowl of seasonings : combine all ingredients', 'prep bowl of breadcrumbs and cooked meat mixture', 'in a very large bowl combine ingredients from all three bowls listed above', 'mix it well', 'loosely stuff the turkey', 'stuff the neck cavity and sew closed the openings', 'tie legs together', 'in a separate bowl: make the paste with ingredients listed above', 'combine all ingredients for paste in a bowl , adding enough flour to form a thick paste', 'in a large open roasting pan with a rack: arrange turkey breast side down on a rack sitting in a shallow roasting pan', 'preheat oven to 500', 'put the turkey in the oven and roast it for 15 minutes , or until browned', 'turn it breast side up and roast for and additional 15 minutes', 'remove from oven', \"now that it's nice and brown , using a pastry or paint brush coat the turkey completely with the paste -- in every nook and cranny\", 'reduce oven temperature to 325f', 'to the simmering basting liquid , continue to add cider and water and reduce until all cider has been added', 'remove from heat but keep warm on top of stove', 'this is your basting liquid', 'roast the bird , basting it frequently , for 4 1 / 2 to 5 hours , or until an instant meat thermometer reads 180 to 185 in the thigh', '170 in the breast and 160 in the stuffing', 'let rest at least 15 to 20 minutes , before peeling away crust / skin', 'make gravy as usual', 'remove the dressing', 'carve as usual & enjoy !']\n"
     ]
    }
   ],
   "source": [
    "# .str.len() --> make it string and check length. then use argmax to find one instance with max length\n",
    "most_ingredients_instance = data_train['ingredients'].str.len().argmax()\n",
    "print('most_ingredients_instance is at ', most_ingredients_instance)\n",
    "print('length of most_ingredients_instance is', len(data_train.loc[most_ingredients_instance, 'ingredients']))\n",
    "print(data_train.loc[most_ingredients_instance, 'steps'])"
   ]
  },
  {
   "cell_type": "markdown",
   "id": "849ab9d5",
   "metadata": {},
   "source": [
    "### relation btw 'n_steps', 'n_ingredients' and 'duration_label' using boxplot\n",
    "### conclusion:\n",
    "- i wanna check if n_steps and n_ingredients are useful to predict label    \n",
    "- boxplot somehow tells the distribution of n_ingredients and n_steps under that label    \n",
    "- if n_ingredient and n_steps are useful, then they could be selected as features in our model   \n",
    "when 1.0:    \n",
    "average for n_steps and n_ingredients are around 7          \n",
    "similar distribution    \n",
    "when 2.0:    \n",
    "average for n_steps and n_ingredients are around 10    \n",
    "smaller range for n_ingredients     \n",
    "when 3.0:   \n",
    "average for n_steps is around 7-8    \n",
    "average for n_ingredient is around 9   \n",
    "smaller range for n_ingredients    \n",
    "- we can see that label 1.0 to 3.0 doesn't have a clear trend of linear   \n",
    "- label 3.0 overally has less n_steps and less n_ingredients needed comparing with label 2.0   \n",
    "- so these 2 features along may not provide model good predictions"
   ]
  },
  {
   "cell_type": "code",
   "execution_count": 37,
   "id": "ee982bdc",
   "metadata": {},
   "outputs": [
    {
     "data": {
      "text/plain": [
       "1.0         AxesSubplot(0.1,0.15;0.235294x0.75)\n",
       "2.0    AxesSubplot(0.382353,0.15;0.235294x0.75)\n",
       "3.0    AxesSubplot(0.664706,0.15;0.235294x0.75)\n",
       "dtype: object"
      ]
     },
     "execution_count": 37,
     "metadata": {},
     "output_type": "execute_result"
    },
    {
     "data": {
      "image/png": "[encoded data removed]",
      "text/plain": [
       "<Figure size 576x576 with 3 Axes>"
      ]
     },
     "metadata": {
      "needs_background": "light"
     },
     "output_type": "display_data"
    }
   ],
   "source": [
    "data_train.groupby(\"duration_label\").boxplot(subplots=True, rot=60, figsize=(8,8), layout=(1,3))"
   ]
  },
  {
   "cell_type": "markdown",
   "id": "e0834873",
   "metadata": {},
   "source": [
    "# split data using holdout / cross-validation\n",
    "#### need to provide model with some unseen data to avoid having unreasonably high prediction    \n",
    "- train set: label know to model and human (for model training)\n",
    "- develop set: label known to human only (for model selection)\n",
    "- test set: label unknown to model and human ('recipe_test.csv' they provided)  "
   ]
  },
  {
   "cell_type": "code",
   "execution_count": 9,
   "id": "ec197a6d",
   "metadata": {},
   "outputs": [
    {
     "data": {
      "text/plain": [
       "'in saucepan , melt margarine and combine with olive oil add celery & onion and saute until tender add garlic for the last minute add carrots , broth , rice and pepper and bring to a boil reduce heat , cover , and simmer for 35 minutes , or until rice is tender stir in chicken and parsley , cover , and simmer for 5 minutes longer or until heated through'"
      ]
     },
     "execution_count": 9,
     "metadata": {},
     "output_type": "execute_result"
    }
   ],
   "source": [
    "# convert list of strings to a long string for later text processing\n",
    "data_train['steps'] = data_train['steps'].apply(' '.join)\n",
    "data_train['ingredients'] = data_train['ingredients'].apply(' '.join)\n",
    "data_train['steps'][0]"
   ]
  },
  {
   "cell_type": "code",
   "execution_count": 8,
   "id": "b347123c",
   "metadata": {},
   "outputs": [
    {
     "data": {
      "text/plain": [
       "((30000, 5), (10000, 5), (30000,), (10000,))"
      ]
     },
     "execution_count": 8,
     "metadata": {},
     "output_type": "execute_result"
    }
   ],
   "source": [
    "# split into train and dev set\n",
    "# dev set is for model selection (use unseen labelled data to measure model performance)\n",
    "from sklearn.model_selection import train_test_split\n",
    "x_train, x_dev, y_train, y_dev = train_test_split(data_train.drop(columns='duration_label'), data_train['duration_label'], test_size=0.25, random_state=42)\n",
    "x_train.shape, x_dev.shape, y_train.shape, y_dev.shape"
   ]
  },
  {
   "cell_type": "markdown",
   "id": "32f6bb6f",
   "metadata": {},
   "source": [
    "## use 30000 instances in training model\n",
    "#### couldn't use preprocessed features teacher provided as these are trained by 40000 instances\n",
    "#### if using those provided on testing 10000 instances,prediction will be higher than it should be (bc model already seen those 10000 while training)\n",
    "#### workaround : not split 40000 and use test.csv provided --> then use kaggle accuracy for model selection --> but it will be overfit for kaggle"
   ]
  },
  {
   "cell_type": "markdown",
   "id": "e7eb5d1c",
   "metadata": {},
   "source": [
    "# use oversampling for train "
   ]
  },
  {
   "cell_type": "code",
   "execution_count": 10,
   "id": "450f65e1",
   "metadata": {},
   "outputs": [
    {
     "data": {
      "text/plain": [
       "(45510, 5)"
      ]
     },
     "execution_count": 10,
     "metadata": {},
     "output_type": "execute_result"
    }
   ],
   "source": [
    "oversample = RandomOverSampler(sampling_strategy='minority')\n",
    "x_train, y_train = oversample.fit_resample(x_train, y_train)\n",
    "x_train.shape"
   ]
  },
  {
   "cell_type": "markdown",
   "id": "7fc8d263",
   "metadata": {},
   "source": [
    "# build own countvectorizer -- task --> oversampling on train and tell result tmr\n",
    "### why:\n",
    "- the one provided by instructor contains info in dev set, so it affects model evaluation \n",
    "- we need to tune some hyperparameters\n",
    "But can use during final submission --> fit the final model and make predictions for kaggle"
   ]
  },
  {
   "cell_type": "code",
   "execution_count": 11,
   "id": "d15a8e23",
   "metadata": {},
   "outputs": [
    {
     "name": "stdout",
     "output_type": "stream",
     "text": [
      "how many differnent vocab:  15717\n"
     ]
    },
    {
     "data": {
      "text/plain": [
       "[('cook', 3671),\n",
       " ('chopped', 3130),\n",
       " ('onion', 9472),\n",
       " ('transparent', 14488),\n",
       " ('small', 12713)]"
      ]
     },
     "execution_count": 11,
     "metadata": {},
     "output_type": "execute_result"
    }
   ],
   "source": [
    "from sklearn.feature_extraction.text import CountVectorizer\n",
    "# stop_word ='english' means deleting some common words like the, a,.... in list 'english'\n",
    "cv = CountVectorizer(stop_words='english').fit(x_train['steps'])\n",
    "vocab_dict = cv.vocabulary_\n",
    "print('how many differnent vocab: ', len(vocab_dict))\n",
    "list(vocab_dict.items())[:5] #check first 5\n",
    "# ('vocab', index of vocab)"
   ]
  },
  {
   "cell_type": "code",
   "execution_count": 44,
   "id": "20d71815",
   "metadata": {},
   "outputs": [
    {
     "data": {
      "text/plain": [
       "'cook'"
      ]
     },
     "execution_count": 44,
     "metadata": {},
     "output_type": "execute_result"
    }
   ],
   "source": [
    "cv.get_feature_names()[3671]"
   ]
  },
  {
   "cell_type": "code",
   "execution_count": 16,
   "id": "7173c60d",
   "metadata": {},
   "outputs": [
    {
     "data": {
      "text/plain": [
       "'cook'"
      ]
     },
     "execution_count": 16,
     "metadata": {},
     "output_type": "execute_result"
    }
   ],
   "source": [
    "vocab = np.array(cv.get_feature_names())\n",
    "vocab[3671]"
   ]
  },
  {
   "cell_type": "markdown",
   "id": "b26d5458",
   "metadata": {},
   "source": [
    "# sparse matrix i did \n",
    "### --> similar to provided 'recipe_text_feature_countvec' but with 30000 instances instead of 40000"
   ]
  },
  {
   "cell_type": "code",
   "execution_count": 12,
   "id": "7dc29ff8",
   "metadata": {},
   "outputs": [
    {
     "name": "stdout",
     "output_type": "stream",
     "text": [
      "  (0, 982)\t2\n",
      "  (0, 2103)\t1\n",
      "  (0, 2108)\t1\n",
      "  (0, 2208)\t1\n",
      "  (0, 2331)\t1\n",
      "  (0, 3130)\t1\n",
      "  (0, 3439)\t1\n",
      "  (0, 3638)\t2\n",
      "  (0, 3671)\t3\n",
      "  (0, 3876)\t1\n",
      "  (0, 4673)\t1\n",
      "  (0, 4813)\t1\n",
      "  (0, 5683)\t1\n",
      "  (0, 6618)\t1\n",
      "  (0, 6724)\t1\n",
      "  (0, 7203)\t1\n",
      "  (0, 7769)\t2\n",
      "  (0, 8173)\t1\n",
      "  (0, 8516)\t1\n",
      "  (0, 8517)\t3\n",
      "  (0, 8537)\t1\n",
      "  (0, 8751)\t1\n",
      "  (0, 9404)\t1\n",
      "  (0, 9472)\t1\n",
      "  (0, 10061)\t1\n",
      "  :\t:\n",
      "  (45509, 3876)\t2\n",
      "  (45509, 4005)\t1\n",
      "  (45509, 4531)\t1\n",
      "  (45509, 4580)\t1\n",
      "  (45509, 5548)\t1\n",
      "  (45509, 5650)\t1\n",
      "  (45509, 5744)\t1\n",
      "  (45509, 5748)\t1\n",
      "  (45509, 6429)\t1\n",
      "  (45509, 6895)\t1\n",
      "  (45509, 6907)\t1\n",
      "  (45509, 7487)\t1\n",
      "  (45509, 7881)\t1\n",
      "  (45509, 8751)\t1\n",
      "  (45509, 9472)\t1\n",
      "  (45509, 9611)\t2\n",
      "  (45509, 10307)\t1\n",
      "  (45509, 10312)\t1\n",
      "  (45509, 10626)\t1\n",
      "  (45509, 11255)\t1\n",
      "  (45509, 11791)\t1\n",
      "  (45509, 12218)\t1\n",
      "  (45509, 12915)\t1\n",
      "  (45509, 13036)\t1\n",
      "  (45509, 13360)\t1\n"
     ]
    }
   ],
   "source": [
    "# sparse matrix\n",
    "x_train_steps_cv = cv.transform(x_train['steps'])\n",
    "x_dev_steps_cv = cv.transform(x_dev['steps'])\n",
    "print(x_train_steps_cv)\n",
    "# row 0 col 982 has 2 --> first instance (index 0) , word number 982, count 2\n",
    "# row 0 col 2103 has 1...."
   ]
  },
  {
   "cell_type": "code",
   "execution_count": 54,
   "id": "9371b4b5",
   "metadata": {},
   "outputs": [
    {
     "name": "stdout",
     "output_type": "stream",
     "text": [
      "add\n"
     ]
    },
    {
     "data": {
      "text/plain": [
       "['add', 'add']"
      ]
     },
     "execution_count": 54,
     "metadata": {},
     "output_type": "execute_result"
    }
   ],
   "source": [
    "# recheck above cell\n",
    "import re\n",
    "print(vocab[982])\n",
    "re.findall(vocab[982], x_train['steps'].iloc[0])"
   ]
  },
  {
   "cell_type": "markdown",
   "id": "2b6296dc",
   "metadata": {},
   "source": [
    "# base model \n",
    "### use multinomial NB which is suitable for count features\n",
    "https://scikit-learn.org/stable/modules/generated/sklearn.naive_bayes.MultinomialNB.html\n",
    "### in above link, it says:\n",
    "#### The multinomial Naive Bayes classifier is suitable for classification with discrete features (e.g., word counts for !!!!! text classification).!!!!!!!"
   ]
  },
  {
   "cell_type": "code",
   "execution_count": 13,
   "id": "07eff398",
   "metadata": {},
   "outputs": [
    {
     "data": {
      "text/plain": [
       "(0.7750384530872336, 0.6968)"
      ]
     },
     "execution_count": 13,
     "metadata": {},
     "output_type": "execute_result"
    }
   ],
   "source": [
    "from sklearn.naive_bayes import MultinomialNB\n",
    "mnb = MultinomialNB() # may need to chooose parameters later?\n",
    "#train it on feature 'steps'     y_train is label\n",
    "mnb.fit(x_train_steps_cv, y_train)\n",
    "mnb.score(x_train_steps_cv, y_train), mnb.score(x_dev_steps_cv, y_dev)"
   ]
  },
  {
   "cell_type": "markdown",
   "id": "4585e077",
   "metadata": {},
   "source": [
    "### check feature importance using MNB"
   ]
  },
  {
   "cell_type": "code",
   "execution_count": 14,
   "id": "44970859",
   "metadata": {},
   "outputs": [
    {
     "data": {
      "text/plain": [
       "array([[  982,  8751,  6724, 13364,  2208,  3671,  8796,  8817, 12217,\n",
       "        10307,  9404, 11821,  8537,  9768,  7203,  3439,  2546, 10061,\n",
       "         7769,  2980],\n",
       "       [ 8751,   982,  6724,  9768,  8817,  9611, 13364,  2208,  1650,\n",
       "         3671,  8796, 11821, 10307,  2546,  7769,  1666, 13576,  3034,\n",
       "         8537,  9404],\n",
       "       [  982,  6908,  3671,  3817, 10307,  8751,  6724, 13364,  8173,\n",
       "        15209,  2208, 10510,  8817, 10554,  8796, 11894,  3034,  8515,\n",
       "        11821, 11365]], dtype=int64)"
      ]
     },
     "execution_count": 14,
     "metadata": {},
     "output_type": "execute_result"
    }
   ],
   "source": [
    "#mnb.coef_.shape\n",
    "most_important = np.argsort(mnb.feature_log_prob_, axis=-1)[:,::-1][:,:20]\n",
    "most_important\n",
    "# tells us index of most frequent words (biggest log likelihood) for 3 labels"
   ]
  },
  {
   "cell_type": "code",
   "execution_count": 17,
   "id": "ff1b6bd6",
   "metadata": {},
   "outputs": [
    {
     "name": "stdout",
     "output_type": "stream",
     "text": [
      "['add' 'minutes' 'heat' 'stir' 'bowl' 'cook' 'mix' 'mixture' 'serve'\n",
      " 'place' 'oil' 'salt' 'medium' 'pan' 'ingredients' 'combine' 'butter'\n",
      " 'pepper' 'large' 'cheese']\n",
      "['minutes' 'add' 'heat' 'pan' 'mixture' 'oven' 'stir' 'bowl' 'bake' 'cook'\n",
      " 'mix' 'salt' 'place' 'butter' 'large' 'baking' 'sugar' 'chicken' 'medium'\n",
      " 'oil']\n",
      "['add' 'hours' 'cook' 'cover' 'place' 'minutes' 'heat' 'stir' 'low'\n",
      " 'water' 'bowl' 'pot' 'mixture' 'pour' 'mix' 'sauce' 'chicken' 'meat'\n",
      " 'salt' 'remove']\n"
     ]
    }
   ],
   "source": [
    "for i in range(len(most_important)):\n",
    "    print(vocab[most_important[i]])\n",
    "#MNB use what kind of word to do predictions (words with biggest log likelihood)\n",
    "# but words like 'add' are not useful --> that's why accracy is around 0.7?"
   ]
  },
  {
   "cell_type": "markdown",
   "id": "a30322fd",
   "metadata": {},
   "source": [
    "# better options for preprocessing \n",
    "## n-grams --> combine 2 words together (we were using 1-gram but now 2-grams)"
   ]
  },
  {
   "cell_type": "code",
   "execution_count": 18,
   "id": "8c6a8f07",
   "metadata": {},
   "outputs": [
    {
     "name": "stdout",
     "output_type": "stream",
     "text": [
      "360300\n"
     ]
    },
    {
     "data": {
      "text/plain": [
       "[('cook', 72687),\n",
       " ('chopped', 60474),\n",
       " ('onion', 208255),\n",
       " ('transparent', 336460),\n",
       " ('small', 291832)]"
      ]
     },
     "execution_count": 18,
     "metadata": {},
     "output_type": "execute_result"
    }
   ],
   "source": [
    "cv2 = CountVectorizer(stop_words='english', ngram_range=(1,2))\n",
    "cv2.fit(x_train['steps'])\n",
    "vocab_dicts2 = cv2.vocabulary_\n",
    "print(len(vocab_dicts2)) #number of differnent combo of 1 and 2 vocabs\n",
    "list(vocab_dicts2.items())[0:5]"
   ]
  },
  {
   "cell_type": "code",
   "execution_count": 19,
   "id": "006a128e",
   "metadata": {},
   "outputs": [
    {
     "data": {
      "text/plain": [
       "(0.9141507361019556, 0.7278)"
      ]
     },
     "execution_count": 19,
     "metadata": {},
     "output_type": "execute_result"
    }
   ],
   "source": [
    "vocab2 = np.array(cv2.get_feature_names())\n",
    "# sparse matrix\n",
    "x_train_steps_cv2 = cv2.transform(x_train['steps'])\n",
    "x_dev_steps_cv2 = cv2.transform(x_dev['steps'])\n",
    "mnb2 = MultinomialNB()\n",
    "#train it on feature 'steps'     y_train is label\n",
    "mnb2.fit(x_train_steps_cv2, y_train)\n",
    "mnb2.score(x_train_steps_cv2, y_train), mnb2.score(x_dev_steps_cv2, y_dev)"
   ]
  },
  {
   "cell_type": "code",
   "execution_count": 20,
   "id": "d74248f1",
   "metadata": {},
   "outputs": [
    {
     "data": {
      "text/plain": [
       "array([0.81817183, 0.82322566, 0.81256867, 0.82289607, 0.8441002 ])"
      ]
     },
     "execution_count": 20,
     "metadata": {},
     "output_type": "execute_result"
    }
   ],
   "source": [
    "#check if overfit:\n",
    "from sklearn.model_selection import cross_val_score\n",
    "cross_val_score(mnb2, x_train_steps_cv2, y_train)"
   ]
  },
  {
   "cell_type": "code",
   "execution_count": 21,
   "id": "36d6b978",
   "metadata": {},
   "outputs": [
    {
     "name": "stdout",
     "output_type": "stream",
     "text": [
      "['add' 'minutes' 'heat' 'stir' 'bowl' 'cook' 'mix' 'mixture' 'serve'\n",
      " 'place' 'oil' 'salt' 'medium' 'pan' 'ingredients' 'combine' 'butter'\n",
      " 'pepper' 'large' 'cheese']\n",
      "['minutes' 'add' 'heat' 'pan' 'mixture' 'oven' 'stir' 'bowl' 'bake' 'cook'\n",
      " 'mix' 'salt' 'place' 'butter' 'large' 'baking' 'sugar' 'chicken' 'medium'\n",
      " 'oil']\n",
      "['add' 'hours' 'cook' 'cover' 'place' 'minutes' 'heat' 'stir' 'low'\n",
      " 'water' 'bowl' 'pot' 'mixture' 'pour' 'mix' 'sauce' 'chicken' 'meat'\n",
      " 'salt' 'remove']\n"
     ]
    }
   ],
   "source": [
    "most_important = np.argsort(mnb2.feature_log_prob_, axis=-1)[:,::-1][:,:20]\n",
    "for i in range(len(most_important)):\n",
    "    print(vocab2[most_important[i]])\n",
    "# we can see that not different from 1-gram...."
   ]
  },
  {
   "cell_type": "markdown",
   "id": "63c224f9",
   "metadata": {},
   "source": [
    "### from above accuracy, accuracy for dev set is still similar with 1-gram, and we use cross validation to check, accuracy for training is still around 0.72.... so training set is overfit.....\n",
    "## conclusion : not using 2-gram with MNB bc not imporving accuracy"
   ]
  },
  {
   "cell_type": "markdown",
   "id": "328a73b3",
   "metadata": {},
   "source": [
    "# tfidf\n",
    "### combines countvectorizer and tfidftransformer"
   ]
  },
  {
   "cell_type": "code",
   "execution_count": 22,
   "id": "479e800f",
   "metadata": {},
   "outputs": [
    {
     "name": "stdout",
     "output_type": "stream",
     "text": [
      "15717\n"
     ]
    },
    {
     "data": {
      "text/plain": [
       "<45510x15717 sparse matrix of type '<class 'numpy.float64'>'\n",
       "\twith 1984745 stored elements in Compressed Sparse Row format>"
      ]
     },
     "execution_count": 22,
     "metadata": {},
     "output_type": "execute_result"
    }
   ],
   "source": [
    "from sklearn.feature_extraction.text import TfidfVectorizer\n",
    "tfidf = TfidfVectorizer(stop_words='english').fit(x_train['steps'])\n",
    "vocab_dict_tfidf = tfidf.vocabulary_\n",
    "print(len(vocab_dict_tfidf)) #number of differnent combo of 1 and 2 vocabs\n",
    "vocab_tfidf = np.array(tfidf.get_feature_names())\n",
    "x_train_steps_tfidf = tfidf.transform(x_train['steps'])\n",
    "x_dev_steps_tfidf = tfidf.transform(x_dev['steps'])\n",
    "x_train_steps_tfidf\n"
   ]
  },
  {
   "cell_type": "code",
   "execution_count": 23,
   "id": "3f8bab53",
   "metadata": {},
   "outputs": [
    {
     "data": {
      "text/plain": [
       "(0.7610195561415074, 0.6874)"
      ]
     },
     "execution_count": 23,
     "metadata": {},
     "output_type": "execute_result"
    }
   ],
   "source": [
    "mnb.fit(x_train_steps_tfidf, y_train)\n",
    "mnb.score(x_train_steps_tfidf, y_train), mnb.score(x_dev_steps_tfidf, y_dev), "
   ]
  },
  {
   "cell_type": "markdown",
   "id": "05d4075f",
   "metadata": {},
   "source": [
    "# LinearSVC, Logistic regression, SGDClassifier"
   ]
  },
  {
   "cell_type": "code",
   "execution_count": 24,
   "id": "ef2cc9df",
   "metadata": {},
   "outputs": [],
   "source": [
    "from sklearn.svm import LinearSVC\n",
    "from sklearn.linear_model import LogisticRegression, SGDClassifier"
   ]
  },
  {
   "cell_type": "code",
   "execution_count": 25,
   "id": "3a51d3fa",
   "metadata": {},
   "outputs": [
    {
     "name": "stderr",
     "output_type": "stream",
     "text": [
      "C:\\Users\\Administrator\\AppData\\Roaming\\Python\\Python38\\site-packages\\sklearn\\svm\\_base.py:985: ConvergenceWarning: Liblinear failed to converge, increase the number of iterations.\n",
      "  warnings.warn(\"Liblinear failed to converge, increase \"\n"
     ]
    },
    {
     "data": {
      "text/plain": [
       "(0.945506482091848, 0.7515)"
      ]
     },
     "execution_count": 25,
     "metadata": {},
     "output_type": "execute_result"
    }
   ],
   "source": [
    "svc = LinearSVC().fit(x_train_steps_cv, y_train)\n",
    "svc.score(x_train_steps_cv, y_train), svc.score(x_dev_steps_cv, y_dev)\n",
    "# error bc model not trained well --> overfit !!!"
   ]
  },
  {
   "cell_type": "code",
   "execution_count": 26,
   "id": "72f28e66",
   "metadata": {},
   "outputs": [
    {
     "data": {
      "text/plain": [
       "(0.9105691056910569, 0.7632)"
      ]
     },
     "execution_count": 26,
     "metadata": {},
     "output_type": "execute_result"
    }
   ],
   "source": [
    "svc = LinearSVC().fit(x_train_steps_tfidf, y_train)\n",
    "svc.score(x_train_steps_tfidf, y_train), svc.score(x_dev_steps_tfidf, y_dev)"
   ]
  },
  {
   "cell_type": "markdown",
   "id": "fb89d80c",
   "metadata": {},
   "source": [
    "# Logisticregression on cv v.s. on tfidf"
   ]
  },
  {
   "cell_type": "code",
   "execution_count": 27,
   "id": "e80fbcd7",
   "metadata": {},
   "outputs": [
    {
     "data": {
      "text/plain": [
       "(0.9310920676774336, 0.7675)"
      ]
     },
     "execution_count": 27,
     "metadata": {},
     "output_type": "execute_result"
    }
   ],
   "source": [
    "lr = LogisticRegression(max_iter=1000).fit(x_train_steps_cv, y_train)\n",
    "lr.score(x_train_steps_cv, y_train), lr.score(x_dev_steps_cv, y_dev)"
   ]
  },
  {
   "cell_type": "code",
   "execution_count": 28,
   "id": "05da64e1",
   "metadata": {},
   "outputs": [
    {
     "data": {
      "text/plain": [
       "(0.8774555042847726, 0.7717)"
      ]
     },
     "execution_count": 28,
     "metadata": {},
     "output_type": "execute_result"
    }
   ],
   "source": [
    "lr = LogisticRegression(max_iter=1000).fit(x_train_steps_tfidf, y_train)\n",
    "lr.score(x_train_steps_tfidf, y_train), lr.score(x_dev_steps_tfidf, y_dev)"
   ]
  },
  {
   "cell_type": "markdown",
   "id": "e6cb2f4e",
   "metadata": {},
   "source": [
    "## conclusion:\n",
    "### from above, can see that tfidf is better to use for above models"
   ]
  },
  {
   "cell_type": "markdown",
   "id": "8450a3e9",
   "metadata": {},
   "source": [
    "# scaling the data?? --> not sure and tfidf already kind of scaled the data"
   ]
  },
  {
   "cell_type": "markdown",
   "id": "98379222",
   "metadata": {},
   "source": [
    "# feature selection"
   ]
  },
  {
   "cell_type": "code",
   "execution_count": 29,
   "id": "ae5ce62c",
   "metadata": {},
   "outputs": [],
   "source": [
    "from sklearn.feature_selection import SelectKBest, chi2, mutual_info_classif, f_classif"
   ]
  },
  {
   "cell_type": "markdown",
   "id": "606d4d17",
   "metadata": {},
   "source": [
    "### use mutual_info(discrete) for count features"
   ]
  },
  {
   "cell_type": "code",
   "execution_count": 30,
   "id": "bbc4d88e",
   "metadata": {},
   "outputs": [],
   "source": [
    "# choose 4000 features to check mutual info btw label and each feature --> higher better\n",
    "kbest = SelectKBest(score_func=mutual_info_classif, k=4000).fit(x_train_steps_cv, y_train)"
   ]
  },
  {
   "cell_type": "code",
   "execution_count": 31,
   "id": "39b6753f",
   "metadata": {},
   "outputs": [
    {
     "data": {
      "text/plain": [
       "array(['hours', 'low', 'crock', 'bake', 'minutes', 'cooker', 'cover',\n",
       "       'slow', 'oven', 'pot', 'cook', '350', 'baking', 'preheat',\n",
       "       'crockpot', '30', 'meat', 'overnight', 'butter', 'degrees'],\n",
       "      dtype='<U30')"
      ]
     },
     "execution_count": 31,
     "metadata": {},
     "output_type": "execute_result"
    }
   ],
   "source": [
    "top20 = kbest.scores_.argsort()[::-1][:20]\n",
    "vocab[top20]\n",
    "# get array(['hours', 'bake', 'minutes', 'oven', '30',.......])"
   ]
  },
  {
   "cell_type": "markdown",
   "id": "092e8e7a",
   "metadata": {},
   "source": [
    "### use f_classif(default --accept continuous features) or chi2(non-negative features) on tfidf"
   ]
  },
  {
   "cell_type": "code",
   "execution_count": 32,
   "id": "953e0688",
   "metadata": {},
   "outputs": [
    {
     "data": {
      "text/plain": [
       "array(['hours', 'crock', 'cooker', 'slow', 'low', 'pot', 'crockpot',\n",
       "       'roast', 'meat', 'bake', 'cover', '350', 'oven', 'beef', 'minutes',\n",
       "       'setting', 'baking', 'pork', '40', 'overnight'], dtype='<U30')"
      ]
     },
     "execution_count": 32,
     "metadata": {},
     "output_type": "execute_result"
    }
   ],
   "source": [
    "kbest = SelectKBest(score_func=chi2, k=4000).fit(x_train_steps_tfidf, y_train)\n",
    "top20 = kbest.scores_.argsort()[::-1][:20]\n",
    "vocab[top20]"
   ]
  },
  {
   "cell_type": "code",
   "execution_count": 33,
   "id": "8b40891e",
   "metadata": {},
   "outputs": [
    {
     "data": {
      "text/plain": [
       "array(['hours', 'low', 'crock', 'bake', 'minutes', 'cover', 'cooker',\n",
       "       'slow', 'pot', 'oven', '350', 'cook', 'preheat', 'baking', 'high',\n",
       "       '30', 'crockpot', 'meat', '40', 'overnight'], dtype='<U30')"
      ]
     },
     "execution_count": 33,
     "metadata": {},
     "output_type": "execute_result"
    }
   ],
   "source": [
    "# f_classif(default)\n",
    "kbest = SelectKBest(k=4000).fit(x_train_steps_tfidf, y_train)\n",
    "top20 = kbest.scores_.argsort()[::-1][:20]\n",
    "vocab[top20]"
   ]
  },
  {
   "cell_type": "markdown",
   "id": "7572f4a0",
   "metadata": {},
   "source": [
    "### conclusion:\n",
    "#### pretty similar result of top20"
   ]
  },
  {
   "cell_type": "markdown",
   "id": "c54af1c4",
   "metadata": {},
   "source": [
    "# will inspect these later :\n",
    "# ppl said grid search is good to use!\n",
    "## !!!grid search !!!!    pipeline for classifier and could change parameters (differnetn classifiers and different feature selection and cross validation) --> they said SVC with feature 10000 is good?\n",
    "\n",
    "(pipline combines a text feature extractor with a simple classifier)\n",
    "\n",
    "## SGDClassifier --? "
   ]
  },
  {
   "cell_type": "markdown",
   "id": "0dd11cee",
   "metadata": {},
   "source": [
    "# grid search\n",
    "#### create a pipline to do feature selection and fitting model\n",
    "#### use grid search to find the best hyperparameter set for this pipline"
   ]
  },
  {
   "cell_type": "code",
   "execution_count": 34,
   "id": "29ba42b1",
   "metadata": {},
   "outputs": [],
   "source": [
    "from sklearn.pipeline import Pipeline\n",
    "from sklearn.model_selection import GridSearchCV"
   ]
  },
  {
   "cell_type": "markdown",
   "id": "0abbb3ea",
   "metadata": {},
   "source": [
    "# SGD classifier\n",
    "### this one can mimic linearSVC and logistic regression by giving different loss function but it uses stochastic gradient descent to train\n",
    "### adv: fast\n",
    "### disadv: random, may not converge to optimun, but still good\n"
   ]
  },
  {
   "cell_type": "code",
   "execution_count": 35,
   "id": "816f6aa0",
   "metadata": {},
   "outputs": [
    {
     "data": {
      "text/plain": [
       "(0.8270929466051418, 0.7622)"
      ]
     },
     "execution_count": 35,
     "metadata": {},
     "output_type": "execute_result"
    }
   ],
   "source": [
    "sgd = SGDClassifier(loss='log', max_iter=1000, random_state=42).fit(x_train_steps_tfidf, y_train)\n",
    "sgd.score(x_train_steps_tfidf, y_train), sgd.score(x_dev_steps_tfidf, y_dev)"
   ]
  },
  {
   "cell_type": "code",
   "execution_count": 36,
   "id": "be7b0654",
   "metadata": {},
   "outputs": [],
   "source": [
    "pipeline = Pipeline(\n",
    "[\n",
    "    ('kbest', SelectKBest()), ('clf', SGDClassifier(random_state=30027))\n",
    "])"
   ]
  },
  {
   "cell_type": "code",
   "execution_count": 37,
   "id": "eabe2016",
   "metadata": {},
   "outputs": [],
   "source": [
    "parameters ={\n",
    "    'kbest__score_func':(f_classif, chi2),\n",
    "    'kbest__k':(1000, 4000, 10000, 'all'),\n",
    "    'clf__loss':('hinge', 'log'), #hinge loss : linearsvc; log loss: logistic regression\n",
    "    'clf__alpha':(1e-5, 1e-4, 1e-3, 1e-2), #regalarisation/penulty, similar to C in linearSVC\n",
    "}"
   ]
  },
  {
   "cell_type": "code",
   "execution_count": 38,
   "id": "97dbd56f",
   "metadata": {},
   "outputs": [],
   "source": [
    "from time import time\n",
    "def grid_search(pipeline, parameters, X, y):\n",
    "    gs = GridSearchCV(pipeline, parameters, cv=5, n_jobs=-1, verbose=1)\n",
    "    print(\"Performing grid search\")\n",
    "    print(\"pipeline\", [name for name, _ in pipeline.steps])\n",
    "    print(\"parameters:\")\n",
    "    print(parameters)\n",
    "    t0 = time()\n",
    "    gs.fit(X, y)\n",
    "    print(\"done in %0.3fs\" %(time() - t0))\n",
    "    \n",
    "    # print out best 5 results\n",
    "    mean_score = gs.cv_results_['mean_test_score']\n",
    "    param_set = gs.cv_results_['params']\n",
    "    for idx in mean_score.argsort()[-5:]:\n",
    "        print(param_set[idx])\n",
    "        print(gs.cv_results_['mean_test_score'][idx])\n",
    "        print(\"=\"*30)\n",
    "    return gs"
   ]
  },
  {
   "cell_type": "code",
   "execution_count": 39,
   "id": "ffc4f31f",
   "metadata": {},
   "outputs": [
    {
     "name": "stdout",
     "output_type": "stream",
     "text": [
      "Performing grid search\n",
      "pipeline ['kbest', 'clf']\n",
      "parameters:\n",
      "{'kbest__score_func': (<function f_classif at 0x000001A8637801F0>, <function chi2 at 0x000001A863780310>), 'kbest__k': (1000, 4000, 10000, 'all'), 'clf__loss': ('hinge', 'log'), 'clf__alpha': (1e-05, 0.0001, 0.001, 0.01)}\n",
      "Fitting 5 folds for each of 64 candidates, totalling 320 fits\n",
      "done in 128.959s\n",
      "{'clf__alpha': 1e-05, 'clf__loss': 'log', 'kbest__k': 10000, 'kbest__score_func': <function chi2 at 0x000001A863780310>}\n",
      "0.8450670182377499\n",
      "==============================\n",
      "{'clf__alpha': 1e-05, 'clf__loss': 'hinge', 'kbest__k': 10000, 'kbest__score_func': <function chi2 at 0x000001A863780310>}\n",
      "0.8470446055811911\n",
      "==============================\n",
      "{'clf__alpha': 1e-05, 'clf__loss': 'hinge', 'kbest__k': 10000, 'kbest__score_func': <function f_classif at 0x000001A8637801F0>}\n",
      "0.8471105251593057\n",
      "==============================\n",
      "{'clf__alpha': 1e-05, 'clf__loss': 'hinge', 'kbest__k': 'all', 'kbest__score_func': <function chi2 at 0x000001A863780310>}\n",
      "0.8479894528675016\n",
      "==============================\n",
      "{'clf__alpha': 1e-05, 'clf__loss': 'hinge', 'kbest__k': 'all', 'kbest__score_func': <function f_classif at 0x000001A8637801F0>}\n",
      "0.8479894528675016\n",
      "==============================\n"
     ]
    }
   ],
   "source": [
    "results = grid_search(pipeline, parameters, x_train_steps_tfidf, y_train)\n"
   ]
  },
  {
   "cell_type": "markdown",
   "id": "bd73f217",
   "metadata": {},
   "source": [
    "## conclusion\n",
    "1.k-10000 is better     \n",
    "2.score function doesn't matter    \n",
    "3.hinge loss is generally better than log -> svc may be better     \n",
    "4.best regularisation term (alpha) is 1e-4    "
   ]
  },
  {
   "cell_type": "markdown",
   "id": "670d7210",
   "metadata": {},
   "source": [
    "## use svc to demonstrate other tuning methods with visualization\n",
    "### if have 2 parameters to tune, maybe a heatmap to visualise\n"
   ]
  },
  {
   "cell_type": "code",
   "execution_count": 40,
   "id": "9d1d40d9",
   "metadata": {},
   "outputs": [
    {
     "name": "stdout",
     "output_type": "stream",
     "text": [
      "Performing grid search\n",
      "pipeline ['kbest', 'clf']\n",
      "parameters:\n",
      "{'kbest__k': (4000, 6000, 8000, 10000, 'all'), 'clf__C': (0.01, 0.1, 0.3, 0.5, 10)}\n",
      "Fitting 5 folds for each of 25 candidates, totalling 125 fits\n",
      "done in 237.002s\n",
      "{'clf__C': 10, 'kbest__k': 6000}\n",
      "0.8452428037793892\n",
      "==============================\n",
      "{'clf__C': 0.3, 'kbest__k': 'all'}\n",
      "0.845506482091848\n",
      "==============================\n",
      "{'clf__C': 0.5, 'kbest__k': 8000}\n",
      "0.8456383212480774\n",
      "==============================\n",
      "{'clf__C': 0.5, 'kbest__k': 10000}\n",
      "0.8458580531751263\n",
      "==============================\n",
      "{'clf__C': 0.5, 'kbest__k': 'all'}\n",
      "0.8475939353988136\n",
      "==============================\n"
     ]
    }
   ],
   "source": [
    "pipeline = Pipeline(\n",
    "[\n",
    "    ('kbest', SelectKBest()), ('clf', LinearSVC(max_iter=1000))\n",
    "])\n",
    "parameters = {\n",
    "    'kbest__k': (4000, 6000, 8000, 10000, 'all'),\n",
    "    'clf__C': (0.01, 0.1, 0.3, 0.5, 10),\n",
    "}\n",
    "gs = grid_search(pipeline, parameters, x_train_steps_tfidf, y_train)"
   ]
  },
  {
   "cell_type": "code",
   "execution_count": 118,
   "id": "488246cf",
   "metadata": {},
   "outputs": [
    {
     "ename": "ValueError",
     "evalue": "cannot reshape array of size 25 into shape (6,5)",
     "output_type": "error",
     "traceback": [
      "\u001b[1;31m---------------------------------------------------------------------------\u001b[0m",
      "\u001b[1;31mValueError\u001b[0m                                Traceback (most recent call last)",
      "\u001b[1;32m<ipython-input-118-7eea155d5f93>\u001b[0m in \u001b[0;36m<module>\u001b[1;34m\u001b[0m\n\u001b[0;32m      1\u001b[0m \u001b[1;32mimport\u001b[0m \u001b[0mseaborn\u001b[0m \u001b[1;32mas\u001b[0m \u001b[0msns\u001b[0m\u001b[1;33m\u001b[0m\u001b[1;33m\u001b[0m\u001b[0m\n\u001b[1;32m----> 2\u001b[1;33m \u001b[0mscores\u001b[0m \u001b[1;33m=\u001b[0m \u001b[0mgs\u001b[0m\u001b[1;33m.\u001b[0m\u001b[0mcv_results_\u001b[0m\u001b[1;33m[\u001b[0m\u001b[1;34m'mean_test_score'\u001b[0m\u001b[1;33m]\u001b[0m\u001b[1;33m.\u001b[0m\u001b[0mreshape\u001b[0m\u001b[1;33m(\u001b[0m\u001b[1;33m(\u001b[0m\u001b[1;36m6\u001b[0m\u001b[1;33m,\u001b[0m \u001b[1;36m5\u001b[0m\u001b[1;33m)\u001b[0m\u001b[1;33m)\u001b[0m\u001b[1;33m\u001b[0m\u001b[1;33m\u001b[0m\u001b[0m\n\u001b[0m\u001b[0;32m      3\u001b[0m \u001b[0msns\u001b[0m\u001b[1;33m.\u001b[0m\u001b[0mheatmap\u001b[0m\u001b[1;33m(\u001b[0m\u001b[0mscores\u001b[0m\u001b[1;33m,\u001b[0m \u001b[0mxticklabels\u001b[0m\u001b[1;33m=\u001b[0m\u001b[0mparameters\u001b[0m\u001b[1;33m[\u001b[0m\u001b[1;34m'kbest__k'\u001b[0m\u001b[1;33m]\u001b[0m\u001b[1;33m,\u001b[0m \u001b[0myticklabels\u001b[0m\u001b[1;33m=\u001b[0m\u001b[0mparameters\u001b[0m\u001b[1;33m[\u001b[0m\u001b[1;34m'clf__C'\u001b[0m\u001b[1;33m]\u001b[0m\u001b[1;33m,\u001b[0m \u001b[0mcmap\u001b[0m\u001b[1;33m=\u001b[0m\u001b[1;34m\"Blues\"\u001b[0m\u001b[1;33m)\u001b[0m\u001b[1;33m\u001b[0m\u001b[1;33m\u001b[0m\u001b[0m\n",
      "\u001b[1;31mValueError\u001b[0m: cannot reshape array of size 25 into shape (6,5)"
     ]
    }
   ],
   "source": [
    "import seaborn as sns\n",
    "scores = gs.cv_results_['mean_test_score'].reshape((6, 5))\n",
    "sns.heatmap(scores, xticklabels=parameters['kbest__k'], yticklabels=parameters['clf__C'], cmap=\"Blues\")"
   ]
  },
  {
   "cell_type": "markdown",
   "id": "76a5783e",
   "metadata": {},
   "source": [
    "# ???? do seaborn again later"
   ]
  },
  {
   "cell_type": "markdown",
   "id": "45dec725",
   "metadata": {},
   "source": [
    "# one parameter to tune --> maybe a validation curve\n"
   ]
  },
  {
   "cell_type": "code",
   "execution_count": 41,
   "id": "0a7e0570",
   "metadata": {},
   "outputs": [],
   "source": [
    "from sklearn.model_selection import validation_curve\n",
    "kbest = SelectKBest(k=6000).fit(x_train_steps_tfidf, y_train)\n",
    "x_train_steps_tfidf_6k = kbest.transform(x_train_steps_tfidf)\n",
    "x_dev_steps_tfidf_6k = kbest.transform(x_dev_steps_tfidf)"
   ]
  },
  {
   "cell_type": "code",
   "execution_count": 42,
   "id": "dea34c51",
   "metadata": {},
   "outputs": [
    {
     "name": "stderr",
     "output_type": "stream",
     "text": [
      "[Parallel(n_jobs=-1)]: Using backend LokyBackend with 8 concurrent workers.\n",
      "[Parallel(n_jobs=-1)]: Done   2 out of  50 | elapsed:    2.9s remaining:  1.2min\n",
      "[Parallel(n_jobs=-1)]: Done  50 out of  50 | elapsed:  3.8min finished\n"
     ]
    }
   ],
   "source": [
    "param_range = np.logspace(-2, 2, 10)\n",
    "\n",
    "train_scores, validation_scores = validation_curve(LinearSVC(max_iter=1000), x_train_steps_tfidf_6k, y_train, param_name='C', param_range=param_range, cv=5, n_jobs=-1, verbose=-1)"
   ]
  },
  {
   "cell_type": "code",
   "execution_count": 43,
   "id": "fd50781a",
   "metadata": {},
   "outputs": [],
   "source": [
    "mean_train_scores = np.mean(train_scores, axis=1)\n",
    "std_train_scores = np.std(train_scores, axis=1)\n",
    "mean_valid_scores = np.mean(validation_scores, axis=1)\n",
    "std_valid_scores = np.std(validation_scores, axis =1)"
   ]
  },
  {
   "cell_type": "code",
   "execution_count": 44,
   "id": "b3bef0ac",
   "metadata": {},
   "outputs": [
    {
     "data": {
      "image/png": "[encoded data removed]",
      "text/plain": [
       "<Figure size 432x288 with 1 Axes>"
      ]
     },
     "metadata": {
      "needs_background": "light"
     },
     "output_type": "display_data"
    }
   ],
   "source": [
    "plt.semilogx(param_range, mean_train_scores, label=\"training score\", color = 'r')\n",
    "plt.fill_between(param_range, mean_train_scores - std_train_scores, mean_train_scores + std_train_scores, alpha=0.2, color='r')\n",
    "plt.semilogx(param_range, mean_valid_scores, label=\"cross validation score\", color = 'b')\n",
    "plt.fill_between(param_range, mean_valid_scores - std_valid_scores, mean_valid_scores + std_valid_scores, alpha=0.2, color='b')\n",
    "plt.legend(loc=\"best\")\n",
    "plt.title(\"validation curve for hyperparameter C in LinearSVC\")\n",
    "plt.xlabel(\"C in log scale\")\n",
    "plt.ylabel(\"Accuracy\")\n",
    "plt.show()\n"
   ]
  },
  {
   "cell_type": "code",
   "execution_count": 45,
   "id": "ac77b8c3",
   "metadata": {},
   "outputs": [
    {
     "data": {
      "text/plain": [
       "12.915496650148826"
      ]
     },
     "execution_count": 45,
     "metadata": {},
     "output_type": "execute_result"
    }
   ],
   "source": [
    "best_C = param_range[mean_valid_scores.argmax()]\n",
    "best_C"
   ]
  },
  {
   "cell_type": "markdown",
   "id": "e1de92d3",
   "metadata": {},
   "source": [
    "## conclusion:\n",
    "higher C means higher training accuracy, which is reasonble bc higher C means harder margin (not allow error)\n",
    "validation accuracy starts to drop btw 1e-1 to 0"
   ]
  },
  {
   "cell_type": "markdown",
   "id": "fc886473",
   "metadata": {},
   "source": [
    "# learning curve -- check overfitiing\n",
    "### by adding more and more data, check if that model needs more data or reach max accuracy at some point\n",
    "### should reach max accuracy with 40000 instances\n",
    "#### bigger gap --> more overfit"
   ]
  },
  {
   "cell_type": "code",
   "execution_count": 46,
   "id": "9819f9b5",
   "metadata": {},
   "outputs": [
    {
     "name": "stderr",
     "output_type": "stream",
     "text": [
      "[Parallel(n_jobs=-1)]: Using backend LokyBackend with 8 concurrent workers.\n",
      "[Parallel(n_jobs=-1)]: Done   2 out of  25 | elapsed:    2.9s remaining:   34.3s\n",
      "[Parallel(n_jobs=-1)]: Done  25 out of  25 | elapsed:  2.0min finished\n"
     ]
    }
   ],
   "source": [
    "from sklearn.model_selection import learning_curve\n",
    "train_size, train_scores, validation_scores = learning_curve(LinearSVC(C=best_C, max_iter=1000), x_train_steps_tfidf_6k, y_train, train_sizes=np.linspace(0.1, 1, 5),cv=5, n_jobs=-1, verbose=-1)"
   ]
  },
  {
   "cell_type": "code",
   "execution_count": 47,
   "id": "d32c1930",
   "metadata": {},
   "outputs": [],
   "source": [
    "mean_train_scores = np.mean(train_scores, axis=1)\n",
    "std_train_scores = np.std(train_scores, axis=1)\n",
    "mean_valid_scores = np.mean(validation_scores, axis=1)\n",
    "std_valid_scores = np.std(validation_scores, axis =1)"
   ]
  },
  {
   "cell_type": "code",
   "execution_count": 48,
   "id": "7f9cf692",
   "metadata": {},
   "outputs": [
    {
     "data": {
      "image/png": "[encoded data removed]",
      "text/plain": [
       "<Figure size 432x288 with 1 Axes>"
      ]
     },
     "metadata": {
      "needs_background": "light"
     },
     "output_type": "display_data"
    }
   ],
   "source": [
    "plt.plot(train_size, mean_train_scores, label=\"training_score\", color='r')\n",
    "plt.fill_between(train_size, mean_train_scores - std_train_scores, mean_train_scores + std_train_scores, alpha=0.2, color='r')\n",
    "plt.plot(train_size, mean_valid_scores, label=\"cross_validation_score\", color='b')\n",
    "plt.fill_between(train_size, mean_valid_scores - std_valid_scores, mean_valid_scores + std_valid_scores, alpha=0.2, color='b')\n",
    "\n",
    "plt.legend(loc=\"best\")\n",
    "plt.title(\"learning curve for LinearSVC\")\n",
    "plt.xlabel(\"C in log scale\")\n",
    "plt.ylabel(\"Accuracy\")\n",
    "plt.show()"
   ]
  },
  {
   "cell_type": "markdown",
   "id": "65a94c23",
   "metadata": {},
   "source": [
    "# conclusion\n",
    "### some overfitting as indicated by gap btw trainning and validation"
   ]
  },
  {
   "cell_type": "markdown",
   "id": "9fff9598",
   "metadata": {},
   "source": [
    "# doc2vec\n",
    "## train a vect representation for each word --> similarity of words (very abstract)\n",
    "### each word there is 50 dimesnion --> is this word describing animal, human, job,...."
   ]
  },
  {
   "cell_type": "code",
   "execution_count": 49,
   "id": "43e7b7f9",
   "metadata": {},
   "outputs": [
    {
     "data": {
      "text/html": [
       "<div>\n",
       "<style scoped>\n",
       "    .dataframe tbody tr th:only-of-type {\n",
       "        vertical-align: middle;\n",
       "    }\n",
       "\n",
       "    .dataframe tbody tr th {\n",
       "        vertical-align: top;\n",
       "    }\n",
       "\n",
       "    .dataframe thead th {\n",
       "        text-align: right;\n",
       "    }\n",
       "</style>\n",
       "<table border=\"1\" class=\"dataframe\">\n",
       "  <thead>\n",
       "    <tr style=\"text-align: right;\">\n",
       "      <th></th>\n",
       "      <th>0</th>\n",
       "      <th>1</th>\n",
       "      <th>2</th>\n",
       "      <th>3</th>\n",
       "      <th>4</th>\n",
       "      <th>5</th>\n",
       "      <th>6</th>\n",
       "      <th>7</th>\n",
       "      <th>8</th>\n",
       "      <th>9</th>\n",
       "      <th>...</th>\n",
       "      <th>90</th>\n",
       "      <th>91</th>\n",
       "      <th>92</th>\n",
       "      <th>93</th>\n",
       "      <th>94</th>\n",
       "      <th>95</th>\n",
       "      <th>96</th>\n",
       "      <th>97</th>\n",
       "      <th>98</th>\n",
       "      <th>99</th>\n",
       "    </tr>\n",
       "  </thead>\n",
       "  <tbody>\n",
       "    <tr>\n",
       "      <th>0</th>\n",
       "      <td>-0.038488</td>\n",
       "      <td>-0.061193</td>\n",
       "      <td>0.185614</td>\n",
       "      <td>0.108549</td>\n",
       "      <td>-0.544672</td>\n",
       "      <td>-0.346892</td>\n",
       "      <td>-0.364900</td>\n",
       "      <td>-0.131785</td>\n",
       "      <td>-0.268178</td>\n",
       "      <td>-0.378723</td>\n",
       "      <td>...</td>\n",
       "      <td>-0.046046</td>\n",
       "      <td>-1.237815</td>\n",
       "      <td>0.337203</td>\n",
       "      <td>-0.478054</td>\n",
       "      <td>0.325911</td>\n",
       "      <td>0.956001</td>\n",
       "      <td>-0.016299</td>\n",
       "      <td>0.047190</td>\n",
       "      <td>-1.078757</td>\n",
       "      <td>-0.603840</td>\n",
       "    </tr>\n",
       "    <tr>\n",
       "      <th>1</th>\n",
       "      <td>-0.346682</td>\n",
       "      <td>0.818242</td>\n",
       "      <td>-1.485725</td>\n",
       "      <td>-0.136444</td>\n",
       "      <td>-0.839452</td>\n",
       "      <td>-0.028747</td>\n",
       "      <td>0.359066</td>\n",
       "      <td>-0.360245</td>\n",
       "      <td>0.898010</td>\n",
       "      <td>0.034255</td>\n",
       "      <td>...</td>\n",
       "      <td>-0.050925</td>\n",
       "      <td>-0.754784</td>\n",
       "      <td>-0.414631</td>\n",
       "      <td>-1.401076</td>\n",
       "      <td>0.140092</td>\n",
       "      <td>-0.593359</td>\n",
       "      <td>0.859226</td>\n",
       "      <td>0.172982</td>\n",
       "      <td>-0.032898</td>\n",
       "      <td>-0.066318</td>\n",
       "    </tr>\n",
       "    <tr>\n",
       "      <th>2</th>\n",
       "      <td>-0.161517</td>\n",
       "      <td>-0.046478</td>\n",
       "      <td>-0.469720</td>\n",
       "      <td>0.856473</td>\n",
       "      <td>0.254552</td>\n",
       "      <td>0.963018</td>\n",
       "      <td>0.025045</td>\n",
       "      <td>-0.592293</td>\n",
       "      <td>0.092916</td>\n",
       "      <td>-0.088357</td>\n",
       "      <td>...</td>\n",
       "      <td>0.728282</td>\n",
       "      <td>-0.297418</td>\n",
       "      <td>-0.316859</td>\n",
       "      <td>-0.140749</td>\n",
       "      <td>0.103697</td>\n",
       "      <td>0.744142</td>\n",
       "      <td>-0.445749</td>\n",
       "      <td>-0.235873</td>\n",
       "      <td>0.653200</td>\n",
       "      <td>-0.108352</td>\n",
       "    </tr>\n",
       "    <tr>\n",
       "      <th>3</th>\n",
       "      <td>-0.149138</td>\n",
       "      <td>-0.435168</td>\n",
       "      <td>0.398795</td>\n",
       "      <td>0.162542</td>\n",
       "      <td>0.062735</td>\n",
       "      <td>-0.489047</td>\n",
       "      <td>-0.407908</td>\n",
       "      <td>-0.367520</td>\n",
       "      <td>0.117337</td>\n",
       "      <td>0.352653</td>\n",
       "      <td>...</td>\n",
       "      <td>-0.898283</td>\n",
       "      <td>0.477606</td>\n",
       "      <td>-0.352423</td>\n",
       "      <td>-0.607715</td>\n",
       "      <td>0.917631</td>\n",
       "      <td>0.211922</td>\n",
       "      <td>0.168028</td>\n",
       "      <td>-0.274200</td>\n",
       "      <td>-0.593518</td>\n",
       "      <td>-0.655954</td>\n",
       "    </tr>\n",
       "    <tr>\n",
       "      <th>4</th>\n",
       "      <td>-0.104086</td>\n",
       "      <td>0.423679</td>\n",
       "      <td>-0.432812</td>\n",
       "      <td>-0.721857</td>\n",
       "      <td>-0.464891</td>\n",
       "      <td>0.179705</td>\n",
       "      <td>0.441417</td>\n",
       "      <td>0.030490</td>\n",
       "      <td>0.080929</td>\n",
       "      <td>-0.981135</td>\n",
       "      <td>...</td>\n",
       "      <td>0.156563</td>\n",
       "      <td>0.106496</td>\n",
       "      <td>-0.449400</td>\n",
       "      <td>-0.177187</td>\n",
       "      <td>0.419978</td>\n",
       "      <td>-0.673034</td>\n",
       "      <td>1.046548</td>\n",
       "      <td>-0.431546</td>\n",
       "      <td>-0.109882</td>\n",
       "      <td>0.228147</td>\n",
       "    </tr>\n",
       "    <tr>\n",
       "      <th>...</th>\n",
       "      <td>...</td>\n",
       "      <td>...</td>\n",
       "      <td>...</td>\n",
       "      <td>...</td>\n",
       "      <td>...</td>\n",
       "      <td>...</td>\n",
       "      <td>...</td>\n",
       "      <td>...</td>\n",
       "      <td>...</td>\n",
       "      <td>...</td>\n",
       "      <td>...</td>\n",
       "      <td>...</td>\n",
       "      <td>...</td>\n",
       "      <td>...</td>\n",
       "      <td>...</td>\n",
       "      <td>...</td>\n",
       "      <td>...</td>\n",
       "      <td>...</td>\n",
       "      <td>...</td>\n",
       "      <td>...</td>\n",
       "      <td>...</td>\n",
       "    </tr>\n",
       "    <tr>\n",
       "      <th>39995</th>\n",
       "      <td>0.447364</td>\n",
       "      <td>0.079168</td>\n",
       "      <td>-0.056656</td>\n",
       "      <td>-0.241829</td>\n",
       "      <td>-0.448888</td>\n",
       "      <td>-0.198237</td>\n",
       "      <td>1.525208</td>\n",
       "      <td>0.202437</td>\n",
       "      <td>-0.510281</td>\n",
       "      <td>0.198008</td>\n",
       "      <td>...</td>\n",
       "      <td>0.189909</td>\n",
       "      <td>0.501349</td>\n",
       "      <td>0.219873</td>\n",
       "      <td>0.338590</td>\n",
       "      <td>0.204403</td>\n",
       "      <td>0.633901</td>\n",
       "      <td>0.202228</td>\n",
       "      <td>0.268780</td>\n",
       "      <td>-0.752346</td>\n",
       "      <td>-0.585481</td>\n",
       "    </tr>\n",
       "    <tr>\n",
       "      <th>39996</th>\n",
       "      <td>0.382064</td>\n",
       "      <td>0.291208</td>\n",
       "      <td>-0.504445</td>\n",
       "      <td>-1.015946</td>\n",
       "      <td>0.255569</td>\n",
       "      <td>0.833729</td>\n",
       "      <td>0.185583</td>\n",
       "      <td>-0.631126</td>\n",
       "      <td>-0.159072</td>\n",
       "      <td>0.706208</td>\n",
       "      <td>...</td>\n",
       "      <td>0.744043</td>\n",
       "      <td>0.949267</td>\n",
       "      <td>0.921160</td>\n",
       "      <td>-0.920896</td>\n",
       "      <td>-0.010590</td>\n",
       "      <td>-0.737633</td>\n",
       "      <td>-1.056501</td>\n",
       "      <td>0.675061</td>\n",
       "      <td>-0.850657</td>\n",
       "      <td>-0.424602</td>\n",
       "    </tr>\n",
       "    <tr>\n",
       "      <th>39997</th>\n",
       "      <td>-0.308860</td>\n",
       "      <td>0.984259</td>\n",
       "      <td>-0.456285</td>\n",
       "      <td>-0.245439</td>\n",
       "      <td>-0.331528</td>\n",
       "      <td>-0.854780</td>\n",
       "      <td>-0.254259</td>\n",
       "      <td>-0.034312</td>\n",
       "      <td>-0.238043</td>\n",
       "      <td>0.000716</td>\n",
       "      <td>...</td>\n",
       "      <td>0.026969</td>\n",
       "      <td>-0.494188</td>\n",
       "      <td>-0.725943</td>\n",
       "      <td>-0.377076</td>\n",
       "      <td>-0.228925</td>\n",
       "      <td>-0.092484</td>\n",
       "      <td>0.429468</td>\n",
       "      <td>-0.036762</td>\n",
       "      <td>-0.291253</td>\n",
       "      <td>0.279832</td>\n",
       "    </tr>\n",
       "    <tr>\n",
       "      <th>39998</th>\n",
       "      <td>0.106077</td>\n",
       "      <td>0.089861</td>\n",
       "      <td>-0.463742</td>\n",
       "      <td>-0.865867</td>\n",
       "      <td>-0.432115</td>\n",
       "      <td>1.221770</td>\n",
       "      <td>-0.375783</td>\n",
       "      <td>-0.484293</td>\n",
       "      <td>-0.526171</td>\n",
       "      <td>0.049754</td>\n",
       "      <td>...</td>\n",
       "      <td>-0.135346</td>\n",
       "      <td>-0.725684</td>\n",
       "      <td>0.501711</td>\n",
       "      <td>-0.143399</td>\n",
       "      <td>-0.341598</td>\n",
       "      <td>-0.770968</td>\n",
       "      <td>0.342341</td>\n",
       "      <td>0.140158</td>\n",
       "      <td>-0.511545</td>\n",
       "      <td>-0.937076</td>\n",
       "    </tr>\n",
       "    <tr>\n",
       "      <th>39999</th>\n",
       "      <td>-0.056758</td>\n",
       "      <td>-0.837425</td>\n",
       "      <td>-0.340891</td>\n",
       "      <td>-1.094857</td>\n",
       "      <td>0.201363</td>\n",
       "      <td>-0.600995</td>\n",
       "      <td>0.011717</td>\n",
       "      <td>-0.382612</td>\n",
       "      <td>-1.008230</td>\n",
       "      <td>-1.076550</td>\n",
       "      <td>...</td>\n",
       "      <td>-0.156918</td>\n",
       "      <td>0.756255</td>\n",
       "      <td>0.537982</td>\n",
       "      <td>-0.006668</td>\n",
       "      <td>0.034585</td>\n",
       "      <td>-0.272654</td>\n",
       "      <td>0.274754</td>\n",
       "      <td>0.119002</td>\n",
       "      <td>-0.561982</td>\n",
       "      <td>-0.298799</td>\n",
       "    </tr>\n",
       "  </tbody>\n",
       "</table>\n",
       "<p>40000 rows × 100 columns</p>\n",
       "</div>"
      ],
      "text/plain": [
       "             0         1         2         3         4         5         6   \\\n",
       "0     -0.038488 -0.061193  0.185614  0.108549 -0.544672 -0.346892 -0.364900   \n",
       "1     -0.346682  0.818242 -1.485725 -0.136444 -0.839452 -0.028747  0.359066   \n",
       "2     -0.161517 -0.046478 -0.469720  0.856473  0.254552  0.963018  0.025045   \n",
       "3     -0.149138 -0.435168  0.398795  0.162542  0.062735 -0.489047 -0.407908   \n",
       "4     -0.104086  0.423679 -0.432812 -0.721857 -0.464891  0.179705  0.441417   \n",
       "...         ...       ...       ...       ...       ...       ...       ...   \n",
       "39995  0.447364  0.079168 -0.056656 -0.241829 -0.448888 -0.198237  1.525208   \n",
       "39996  0.382064  0.291208 -0.504445 -1.015946  0.255569  0.833729  0.185583   \n",
       "39997 -0.308860  0.984259 -0.456285 -0.245439 -0.331528 -0.854780 -0.254259   \n",
       "39998  0.106077  0.089861 -0.463742 -0.865867 -0.432115  1.221770 -0.375783   \n",
       "39999 -0.056758 -0.837425 -0.340891 -1.094857  0.201363 -0.600995  0.011717   \n",
       "\n",
       "             7         8         9   ...        90        91        92  \\\n",
       "0     -0.131785 -0.268178 -0.378723  ... -0.046046 -1.237815  0.337203   \n",
       "1     -0.360245  0.898010  0.034255  ... -0.050925 -0.754784 -0.414631   \n",
       "2     -0.592293  0.092916 -0.088357  ...  0.728282 -0.297418 -0.316859   \n",
       "3     -0.367520  0.117337  0.352653  ... -0.898283  0.477606 -0.352423   \n",
       "4      0.030490  0.080929 -0.981135  ...  0.156563  0.106496 -0.449400   \n",
       "...         ...       ...       ...  ...       ...       ...       ...   \n",
       "39995  0.202437 -0.510281  0.198008  ...  0.189909  0.501349  0.219873   \n",
       "39996 -0.631126 -0.159072  0.706208  ...  0.744043  0.949267  0.921160   \n",
       "39997 -0.034312 -0.238043  0.000716  ...  0.026969 -0.494188 -0.725943   \n",
       "39998 -0.484293 -0.526171  0.049754  ... -0.135346 -0.725684  0.501711   \n",
       "39999 -0.382612 -1.008230 -1.076550  ... -0.156918  0.756255  0.537982   \n",
       "\n",
       "             93        94        95        96        97        98        99  \n",
       "0     -0.478054  0.325911  0.956001 -0.016299  0.047190 -1.078757 -0.603840  \n",
       "1     -1.401076  0.140092 -0.593359  0.859226  0.172982 -0.032898 -0.066318  \n",
       "2     -0.140749  0.103697  0.744142 -0.445749 -0.235873  0.653200 -0.108352  \n",
       "3     -0.607715  0.917631  0.211922  0.168028 -0.274200 -0.593518 -0.655954  \n",
       "4     -0.177187  0.419978 -0.673034  1.046548 -0.431546 -0.109882  0.228147  \n",
       "...         ...       ...       ...       ...       ...       ...       ...  \n",
       "39995  0.338590  0.204403  0.633901  0.202228  0.268780 -0.752346 -0.585481  \n",
       "39996 -0.920896 -0.010590 -0.737633 -1.056501  0.675061 -0.850657 -0.424602  \n",
       "39997 -0.377076 -0.228925 -0.092484  0.429468 -0.036762 -0.291253  0.279832  \n",
       "39998 -0.143399 -0.341598 -0.770968  0.342341  0.140158 -0.511545 -0.937076  \n",
       "39999 -0.006668  0.034585 -0.272654  0.274754  0.119002 -0.561982 -0.298799  \n",
       "\n",
       "[40000 rows x 100 columns]"
      ]
     },
     "execution_count": 49,
     "metadata": {},
     "output_type": "execute_result"
    }
   ],
   "source": [
    "x_doc2vec = pd.read_csv(name_folder + \"/recipe_text_features_doc2vec100/train_steps_doc2vec100.csv\", header=None)\n",
    "x_doc2vec\n",
    "### cross validation score for each model\n",
    "# cross_val_score(logisticregression, doc2vect, y)......."
   ]
  },
  {
   "cell_type": "code",
   "execution_count": 50,
   "id": "d323dcd8",
   "metadata": {},
   "outputs": [],
   "source": [
    "y= data_train['duration_label'] # all labels in training set\n"
   ]
  },
  {
   "cell_type": "code",
   "execution_count": 51,
   "id": "10e33c10",
   "metadata": {},
   "outputs": [
    {
     "data": {
      "text/plain": [
       "array([0.604125, 0.594375, 0.61175 , 0.601   , 0.605   ])"
      ]
     },
     "execution_count": 51,
     "metadata": {},
     "output_type": "execute_result"
    }
   ],
   "source": [
    "from sklearn.naive_bayes import GaussianNB\n",
    "cross_val_score(GaussianNB(), x_doc2vec, y)"
   ]
  },
  {
   "cell_type": "code",
   "execution_count": 52,
   "id": "1ff5bb40",
   "metadata": {},
   "outputs": [
    {
     "data": {
      "text/plain": [
       "array([0.6715  , 0.66225 , 0.672625, 0.66575 , 0.67725 ])"
      ]
     },
     "execution_count": 52,
     "metadata": {},
     "output_type": "execute_result"
    }
   ],
   "source": [
    "cross_val_score(LogisticRegression(max_iter=200), x_doc2vec, y)"
   ]
  },
  {
   "cell_type": "code",
   "execution_count": 53,
   "id": "3fd35f52",
   "metadata": {},
   "outputs": [
    {
     "data": {
      "text/plain": [
       "0.730025"
      ]
     },
     "execution_count": 53,
     "metadata": {},
     "output_type": "execute_result"
    }
   ],
   "source": [
    "from sklearn.neural_network import MLPClassifier\n",
    "mlp = MLPClassifier(hidden_layer_sizes=(32,), early_stopping=True)\n",
    "mlp.fit(x_doc2vec, y)\n",
    "mlp.score(x_doc2vec, y)"
   ]
  },
  {
   "cell_type": "code",
   "execution_count": 54,
   "id": "1a8d1a5e",
   "metadata": {},
   "outputs": [
    {
     "data": {
      "text/plain": [
       "[<matplotlib.lines.Line2D at 0x1a86374c9a0>]"
      ]
     },
     "execution_count": 54,
     "metadata": {},
     "output_type": "execute_result"
    },
    {
     "data": {
      "image/png": "[encoded data removed]",
      "text/plain": [
       "<Figure size 432x288 with 1 Axes>"
      ]
     },
     "metadata": {
      "needs_background": "light"
     },
     "output_type": "display_data"
    }
   ],
   "source": [
    "plt.plot(mlp.loss_curve_, color='r')\n",
    "plt.plot(mlp.validation_scores_, color = 'b')"
   ]
  },
  {
   "cell_type": "markdown",
   "id": "d3ab61f5",
   "metadata": {},
   "source": [
    "# other possible things to do\n",
    "1. combine names/steps/ingredients (concatenate doc2vec vectors, combines as one very long text then use countvector or even train 3 seperate models and use voting)\n",
    "could use pca to visualise\n",
    "try to use pytorch/keras/tenserflow\n",
    "2. ensemble models (random forest, adaboost, gradientboost, etc) or build stacking model using base classifers (need sklearn emsemble for all these models\n",
    "3. try deep learning"
   ]
  },
  {
   "cell_type": "markdown",
   "id": "c8ab6d61",
   "metadata": {},
   "source": [
    "# ensemble method\n",
    "## stacking:\n",
    "have multiple classifiers -- put them in a box --> from that box output a prediction from each classfier--> pass to final classifier (meta-classifier that will be used to find final prediction from your data)\n",
    "take each individual classifier -- perform prediction -- calculate why predict ...... -- from these why predicts build a matrix for each classifier and then pass matrix to final classifier and gives u final why predict --> use final why predict to calculate prediction accuracy\n",
    "## bagging:\n",
    "bagging (different from stacking bc it does random sampling)\n",
    "bagging and stacking are similar in procedure, but bagging --> u need to randomly smaple total number of instances and features\n",
    "then pass that particular data to a classifer whcih gives u some accuracy --> then pass same size of another isntance to another classifier\n",
    "that classfier gives u another accuracy\n",
    "in the end, there is voting which give classifier with highest accuracy been chosen as final output score\n",
    "why random sampling -->\n",
    "for iris, we r clear about data, but if work with other data, difficult to manage\n",
    "maintan randomness and avoid overfitiing by too much looking at same sample, keep running all algo...\n",
    "that's why random sampling is important in bagging\n",
    "## boosting:\n",
    "increases number of instances classifers got wrong and learn from those instances\n",
    "one classifer makes mistakes then penulised --> try imporve accuracy of clasffier who performs weakly --> then build a overall powerful one\n",
    "similar to bagging --> random sampling\n",
    "differnecen --> boosting not cal final prediction at the end, it starts to cal prediction from the beginning/the first classifier\n",
    "there is some criteria penalise those one performing low to boost their performance and cal predictions\n",
    "## which one to use:\n"
   ]
  }
 ],
 "metadata": {
  "kernelspec": {
   "display_name": "Python 3",
   "language": "python",
   "name": "python3"
  },
  "language_info": {
   "codemirror_mode": {
    "name": "ipython",
    "version": 3
   },
   "file_extension": ".py",
   "mimetype": "text/x-python",
   "name": "python",
   "nbconvert_exporter": "python",
   "pygments_lexer": "ipython3",
   "version": "3.8.8"
  }
 },
 "nbformat": 4,
 "nbformat_minor": 5
}
