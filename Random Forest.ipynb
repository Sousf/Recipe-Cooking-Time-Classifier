{
 "cells": [
  {
   "cell_type": "code",
   "execution_count": 3,
   "id": "improved-domestic",
   "metadata": {
    "scrolled": true
   },
   "outputs": [
    {
     "data": {
      "text/plain": [
       "(60738, 300)"
      ]
     },
     "execution_count": 3,
     "metadata": {},
     "output_type": "execute_result"
    }
   ],
   "source": [
    "from numpy import load\n",
    "import pickle\n",
    "import scipy\n",
    "from sklearn.model_selection import train_test_split\n",
    "from sklearn.feature_selection import SelectKBest, chi2\n",
    "from sklearn.metrics import classification_report\n",
    "import pandas as pd\n",
    "import numpy as np\n",
    "from sklearn.preprocessing import StandardScaler\n",
    "from sklearn.preprocessing import MinMaxScaler\n",
    "from imblearn.over_sampling import RandomOverSampler\n",
    "from sklearn import svm\n",
    "import matplotlib.pyplot as plt\n",
    "from mlxtend.plotting import plot_learning_curves\n",
    "from sklearn.metrics import accuracy_score\n",
    "from sklearn.metrics import confusion_matrix\n",
    "\n",
    "\n",
    "# Look into partial fitting. \n",
    "# Dataset is not evenly distributed with most being 1.\n",
    "# Dummy Classifier has 50 % accuracy score... (Only give instances the most frequent label)\n",
    "\n",
    "\n",
    "\n",
    "# steps_countvec = scipy.sparse.load_npz('recipe_text_features_countvec/train_steps_countvectorizer.pkl')\n",
    "\n",
    "# Doc2Vect is a technique to transfer words into numerical representation. \n",
    "# https://www.shibumi-ai.com/post/a-gentle-introduction-to-doc2vec\n",
    "d2v_ingr = pd.read_csv(\"recipe_text_features_doc2vec100/train_ingr_doc2vec100.csv\", header=None)\n",
    "d2v_name = pd.read_csv(\"recipe_text_features_doc2vec100/train_name_doc2vec100.csv\", header=None)\n",
    "d2v_steps = pd.read_csv(\"recipe_text_features_doc2vec100/train_steps_doc2vec100.csv\", header=None)\n",
    "\n",
    "\n",
    "\n",
    "\n",
    "# Extract class_labels from training set \n",
    "# quick = 1\n",
    "# medium = 2\n",
    "# slow = 3\n",
    "data_train = pd.read_csv('recipe_train.csv')\n",
    "\n",
    "# Obtain the labels\n",
    "train_label = data_train.iloc[:,-1]\n",
    "\n",
    "\n",
    "\n",
    "\n",
    "# Feature selection with f_classif (ANOVA F-value)\n",
    "# ANOVA f-value shows how well a feature discriminate between classes\n",
    "# The more discrimination, the better that feature is in predicting the class label.\n",
    "# d2v_name_new = SelectKBest(k=90).fit_transform(d2v_name, train_label)\n",
    "# d2v_ingr_new = SelectKBest(k=90).fit_transform(d2v_ingr, train_label)\n",
    "# d2v_steps_new = SelectKBest(k=90).fit_transform(d2v_steps, train_label)\n",
    "d2v_name_new = pd.DataFrame(d2v_name)\n",
    "d2v_ingr_new = pd.DataFrame(d2v_ingr)\n",
    "d2v_steps_new = pd.DataFrame(d2v_steps)\n",
    "# print(d2v_ingr_new)\n",
    "# print(d2v_steps_new)\n",
    "# print(d2v_name_new.shape)\n",
    "\n",
    "\n",
    "# Create a new dataframe of data, but this time, name, steps and ingr has been engineered to have doc2vec features.\n",
    "# 100 doc2vec features were given, but we selected 20 best features using ANOVA f-value.\n",
    "f_data = d2v_name_new.join(data_train.iloc[:,1:3], on=None, how='left', lsuffix='_left', rsuffix='_right')\n",
    "f_data = d2v_name_new.join(d2v_steps_new, on=None, how='left', lsuffix='_left', rsuffix='_right')\n",
    "f_data = f_data.join(d2v_ingr_new, on=None, how='left', lsuffix='_left', rsuffix='_right')\n",
    "\n",
    "\n",
    "# Standardise the data so that the mean is 0\n",
    "scaler = StandardScaler()\n",
    "f_data = scaler.fit_transform(f_data)\n",
    "\n",
    "# normalise all values to be between 0 and 1\n",
    "minmax_scaler = MinMaxScaler()\n",
    "f_data = minmax_scaler.fit_transform(f_data)\n",
    "   \n",
    "        \n",
    "           \n",
    "\n",
    "\n",
    "# Oversampling, because the distribution of classes in training data is highly skewed towards quick and medium.\n",
    "oversample = RandomOverSampler(sampling_strategy='minority')\n",
    "\n",
    "# First random oversampling, bring count of class 3 to be equal to the highest class count.\n",
    "X_oversampled, y_oversampled = oversample.fit_resample(f_data, train_label)\n",
    "\n",
    "# Second random oversampling, bring the count of class 2 to be equal to the other 2 classes\n",
    "X_oversampled, y_oversampled = oversample.fit_resample(X_oversampled, y_oversampled)\n",
    "\n",
    "\n",
    "\n",
    "\n",
    "\n",
    "\n",
    "# Now we should have 20,246 instances for each class.\n",
    "# Splitting the provided training into its own train/test\n",
    "X_train, X_test, y_train, y_test = train_test_split(X_oversampled, y_oversampled, test_size=0.2, stratify=y_oversampled, random_state=42)\n",
    "\n",
    "        \n",
    "\n",
    "\n",
    "# X = pd.DataFrame(X_oversampled)\n",
    "# y = pd.DataFrame(y_oversampled)\n",
    "\n",
    "# full = X.join(y, on=None, how='left', lsuffix='_left', rsuffix='_right')\n",
    "X_oversampled.shape"
   ]
  },
  {
   "cell_type": "markdown",
   "id": "handy-things",
   "metadata": {},
   "source": [
    "### Random Forest Classifier"
   ]
  },
  {
   "cell_type": "code",
   "execution_count": 5,
   "id": "charged-empire",
   "metadata": {},
   "outputs": [
    {
     "data": {
      "text/plain": [
       "{'n_estimators': 500,\n",
       " 'max_features': 'log2',\n",
       " 'max_depth': 8,\n",
       " 'criterion': 'entropy'}"
      ]
     },
     "execution_count": 5,
     "metadata": {},
     "output_type": "execute_result"
    }
   ],
   "source": [
    "# Implements RandomForest\n",
    "from sklearn.ensemble import RandomForestClassifier\n",
    "from sklearn.model_selection import GridSearchCV\n",
    "from sklearn.model_selection import RandomizedSearchCV\n",
    "Rd_Forest_clf = RandomForestClassifier(n_jobs = -1, random_state = 0)\n",
    "\n",
    "\n",
    "\n",
    "\n",
    "# Grid search\n",
    "param_grid = { \n",
    "    'n_estimators': [200, 500],\n",
    "    'max_features': ['auto', 'sqrt', 'log2'],\n",
    "    'max_depth' : [4,5,6,7,8],\n",
    "    'criterion' :['gini', 'entropy']\n",
    "}\n",
    "CV_rfc = RandomizedSearchCV(estimator=Rd_Forest_clf, param_distributions =param_grid, n_iter=10, cv= 4, random_state=0, n_jobs = -1)\n",
    "CV_rfc.fit(X_train, y_train)\n",
    "CV_rfc.best_params_\n",
    "\n"
   ]
  },
  {
   "cell_type": "code",
   "execution_count": 28,
   "id": "physical-tongue",
   "metadata": {},
   "outputs": [
    {
     "name": "stdout",
     "output_type": "stream",
     "text": [
      "0.5949127428383273\n",
      "0.6117925499073884\n",
      "              precision    recall  f1-score   support\n",
      "\n",
      "         1.0       0.57      0.64      0.60      4049\n",
      "         2.0       0.59      0.42      0.49      4049\n",
      "         3.0       0.62      0.72      0.67      4050\n",
      "\n",
      "    accuracy                           0.59     12148\n",
      "   macro avg       0.59      0.59      0.59     12148\n",
      "weighted avg       0.59      0.59      0.59     12148\n",
      "\n"
     ]
    }
   ],
   "source": [
    "forest = RandomForestClassifier(n_estimators=500, max_features='log2', max_depth=2, \n",
    "                                criterion='entropy', n_jobs = -1, random_state = 0)\n",
    "forest.fit(X_train, y_train)\n",
    "Forest_pred = forest.predict(X_test)\n",
    "Forest_train_pred = forest.predict(X_train)\n",
    "# Check accuracy of Random Forest\n",
    "print(accuracy_score(y_test, Forest_pred))\n",
    "print(accuracy_score(y_train, Forest_train_pred))\n",
    "print(classification_report(y_test, Forest_pred))"
   ]
  },
  {
   "cell_type": "code",
   "execution_count": 17,
   "id": "numerical-hunter",
   "metadata": {},
   "outputs": [],
   "source": [
    "test_y = []\n",
    "train_y = []\n",
    "\n",
    "for depth in range(1,11):\n",
    "    forest = RandomForestClassifier(n_estimators=500, max_features='log2', max_depth=depth, \n",
    "                                criterion='entropy', n_jobs = -1, random_state = 0)\n",
    "    \n",
    "    forest.fit(X_train, y_train)\n",
    "    Forest_pred = forest.predict(X_test)\n",
    "    Forest_train_pred = forest.predict(X_train)\n",
    "    \n",
    "    test_y.append(accuracy_score(y_test, Forest_pred))\n",
    "    train_y.append(accuracy_score(y_train, Forest_train_pred))\n",
    "    \n",
    "    \n",
    "    \n"
   ]
  },
  {
   "cell_type": "code",
   "execution_count": 27,
   "id": "necessary-graphics",
   "metadata": {},
   "outputs": [
    {
     "data": {
      "image/png": "[encoded data removed]",
      "text/plain": [
       "<Figure size 432x288 with 1 Axes>"
      ]
     },
     "metadata": {
      "needs_background": "light"
     },
     "output_type": "display_data"
    }
   ],
   "source": [
    "depth = [1,2,3,4,5,6,7,8,9,10]\n",
    "\n",
    "plt.plot(depth, train_y, label = \"train\")\n",
    "plt.plot(depth, test_y, label = \"test\")\n",
    "plt.xlabel('max_depth')\n",
    "plt.ylabel('accuracy')\n",
    "plt.legend()\n",
    "plt.show()"
   ]
  },
  {
   "cell_type": "code",
   "execution_count": null,
   "id": "requested-vatican",
   "metadata": {},
   "outputs": [],
   "source": []
  },
  {
   "cell_type": "code",
   "execution_count": null,
   "id": "received-commander",
   "metadata": {
    "scrolled": false
   },
   "outputs": [],
   "source": []
  },
  {
   "cell_type": "code",
   "execution_count": null,
   "id": "authorized-scanner",
   "metadata": {},
   "outputs": [],
   "source": [
    "# Dummy Classifier\n",
    "from sklearn.dummy import DummyClassifier\n",
    "dummy_clf = DummyClassifier(strategy='stratified', random_state = 0)\n",
    "dummy_clf.fit(X_train, y_train)\n",
    "dummy_pred = dummy_clf.predict(X_test)\n",
    "# Check accuracy of Dummy\n",
    "print(accuracy_score(y_test, dummy_pred))"
   ]
  },
  {
   "cell_type": "markdown",
   "id": "atlantic-moore",
   "metadata": {},
   "source": [
    "### Stacking"
   ]
  },
  {
   "cell_type": "code",
   "execution_count": null,
   "id": "skilled-davis",
   "metadata": {},
   "outputs": [],
   "source": [
    "# https://www.analyticsvidhya.com/blog/2020/10/how-to-use-stacking-to-choose-the-best-possible-algorithm/"
   ]
  }
 ],
 "metadata": {
  "kernelspec": {
   "display_name": "Python 3",
   "language": "python",
   "name": "python3"
  },
  "language_info": {
   "codemirror_mode": {
    "name": "ipython",
    "version": 3
   },
   "file_extension": ".py",
   "mimetype": "text/x-python",
   "name": "python",
   "nbconvert_exporter": "python",
   "pygments_lexer": "ipython3",
   "version": "3.8.8"
  }
 },
 "nbformat": 4,
 "nbformat_minor": 5
}
