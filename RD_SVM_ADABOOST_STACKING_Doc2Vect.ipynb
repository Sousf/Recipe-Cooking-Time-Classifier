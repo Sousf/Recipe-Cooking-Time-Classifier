{
 "cells": [
  {
   "cell_type": "code",
   "execution_count": 2,
   "id": "improved-domestic",
   "metadata": {
    "scrolled": true
   },
   "outputs": [],
   "source": [
    "from numpy import load\n",
    "import pickle\n",
    "import scipy\n",
    "from sklearn.model_selection import train_test_split\n",
    "from sklearn.feature_selection import SelectKBest, chi2\n",
    "from sklearn.metrics import classification_report\n",
    "import pandas as pd\n",
    "import numpy as np\n",
    "from sklearn.preprocessing import StandardScaler\n",
    "from sklearn.preprocessing import MinMaxScaler\n",
    "from imblearn.over_sampling import RandomOverSampler\n",
    "from sklearn import svm\n",
    "import matplotlib.pyplot as plt\n",
    "from mlxtend.plotting import plot_learning_curves\n",
    "from sklearn.metrics import accuracy_score\n",
    "from sklearn.metrics import confusion_matrix\n",
    "# Implements RandomForest\n",
    "from sklearn.ensemble import RandomForestClassifier\n",
    "from sklearn.model_selection import GridSearchCV\n",
    "from sklearn.model_selection import RandomizedSearchCV\n",
    "from sklearn.ensemble import AdaBoostClassifier\n",
    "from sklearn.ensemble import StackingClassifier\n",
    "from sklearn.linear_model import LogisticRegression\n",
    "from imblearn.over_sampling import SMOTE\n",
    "from sklearn.tree import DecisionTreeClassifier"
   ]
  },
  {
   "cell_type": "code",
   "execution_count": 29,
   "id": "mexican-intensity",
   "metadata": {},
   "outputs": [
    {
     "data": {
      "text/plain": [
       "(48591, 25)"
      ]
     },
     "execution_count": 29,
     "metadata": {},
     "output_type": "execute_result"
    }
   ],
   "source": [
    "# Look into partial fitting. \n",
    "# Dataset is not evenly distributed with most being 1.\n",
    "# Dummy Classifier has 50 % accuracy score... (Only give instances the most frequent label)\n",
    "\n",
    "\n",
    "\n",
    "# steps_countvec = scipy.sparse.load_npz('recipe_text_features_countvec/train_steps_countvectorizer.pkl')\n",
    "\n",
    "# Doc2Vect is a technique to transfer words into numerical representation. \n",
    "# https://www.shibumi-ai.com/post/a-gentle-introduction-to-doc2vec\n",
    "d2v_ingr = pd.read_csv(\"../data/COMP30027_2021_Project2_datasets/recipe_text_features_doc2vec100/train_ingr_doc2vec100.csv\", header=None)\n",
    "d2v_name = pd.read_csv(\"../data/COMP30027_2021_Project2_datasets/recipe_text_features_doc2vec100/train_name_doc2vec100.csv\", header=None)\n",
    "d2v_steps = pd.read_csv(\"../data/COMP30027_2021_Project2_datasets/recipe_text_features_doc2vec100/train_steps_doc2vec100.csv\", header=None)\n",
    "\n",
    "\n",
    "\n",
    "\n",
    "# Extract class_labels from training set \n",
    "# quick = 1\n",
    "# medium = 2\n",
    "# slow = 3\n",
    "data_train = pd.read_csv('../data/COMP30027_2021_Project2_datasets/recipe_train.csv')\n",
    "\n",
    "# Obtain the labels\n",
    "train_label = data_train.iloc[:,-1]\n",
    "\n",
    "\n",
    "\n",
    "\n",
    "# Feature selection with f_classif (ANOVA F-value)\n",
    "# ANOVA f-value shows how well a feature discriminate between classes\n",
    "# The more discrimination, the better that feature is in predicting the class label.\n",
    "# d2v_name_new = SelectKBest(k=90).fit_transform(d2v_name, train_label)\n",
    "# d2v_ingr_new = SelectKBest(k=90).fit_transform(d2v_ingr, train_label)\n",
    "# d2v_steps_new = SelectKBest(k=90).fit_transform(d2v_steps, train_label)\n",
    "d2v_name_new = pd.DataFrame(d2v_name)\n",
    "d2v_ingr_new = pd.DataFrame(d2v_ingr)\n",
    "d2v_steps_new = pd.DataFrame(d2v_steps)\n",
    "# print(d2v_ingr_new)\n",
    "# print(d2v_steps_new)\n",
    "# print(d2v_name_new.shape)\n",
    "\n",
    "\n",
    "# Create a new dataframe of data, but this time, name, steps and ingr has been engineered to have doc2vec features.\n",
    "# 100 doc2vec features were given, but we selected 20 best features using ANOVA f-value.\n",
    "f_data = d2v_name_new.join(data_train.iloc[:,1:3], on=None, how='left', lsuffix='_left', rsuffix='_right')\n",
    "f_data = f_data.join(d2v_steps_new, on=None, how='left', lsuffix='_left', rsuffix='_right')\n",
    "f_data = f_data.join(d2v_ingr_new, on=None, how='left', lsuffix='_left', rsuffix='_right')\n",
    "\n",
    "\n",
    "# # Standardise the data so that the mean is 0\n",
    "# scaler = StandardScaler()\n",
    "# f_data = scaler.fit_transform(f_data)\n",
    "\n",
    "# normalise all values to be between 0 and 1\n",
    "minmax_scaler = MinMaxScaler()\n",
    "f_data = minmax_scaler.fit_transform(f_data)\n",
    "   \n",
    "\n",
    "\n",
    "\n",
    "\n",
    "# Splitting the provided training into its own train/test\n",
    "X_train, X_test, y_train, y_test = train_test_split(f_data, train_label, test_size=0.2, stratify=train_label, random_state=42)\n",
    "\n",
    "# SMOTE sampling\n",
    "# Synthesise new data by considering k nearest neighbours.\n",
    "smote = SMOTE(sampling_strategy = 'all', random_state=42, k_neighbors=2)\n",
    "smX, smY = smote.fit_resample(X_train, y_train)\n",
    "\n",
    "\n",
    "# Feature selection with chi2\n",
    "select = SelectKBest(chi2, k=25)\n",
    "smX = select.fit_transform(smX, smY)\n",
    "X_test = select.transform(X_test)\n",
    "\n",
    "\n",
    "\n",
    "\n",
    "smY.value_counts()\n",
    "smX = pd.DataFrame(smX)\n",
    "X_test.shape, y_test.shape\n",
    "smY.value_counts()\n",
    "smX.shape"
   ]
  },
  {
   "cell_type": "markdown",
   "id": "handy-things",
   "metadata": {},
   "source": [
    "### Random Forest Classifier\n",
    "\n",
    "Decreases the weight on label 3 to decrease overfitting"
   ]
  },
  {
   "cell_type": "code",
   "execution_count": 18,
   "id": "charged-empire",
   "metadata": {},
   "outputs": [
    {
     "data": {
      "text/plain": [
       "{'n_estimators': 200,\n",
       " 'max_features': 'log2',\n",
       " 'max_depth': 10,\n",
       " 'criterion': 'gini'}"
      ]
     },
     "execution_count": 18,
     "metadata": {},
     "output_type": "execute_result"
    }
   ],
   "source": [
    "\n",
    "Rd_Forest_clf = RandomForestClassifier(n_jobs = -1, random_state = 0)\n",
    "\n",
    "\n",
    "\n",
    "\n",
    "# Grid search\n",
    "param_grid = { \n",
    "    'n_estimators': [200, 500],\n",
    "    'max_features': ['auto', 'sqrt', 'log2'],\n",
    "    'max_depth' : [4,5,6,7,8,9,10],\n",
    "    'criterion' :['gini', 'entropy']\n",
    "}\n",
    "CV_rfc = RandomizedSearchCV(estimator=Rd_Forest_clf, param_distributions =param_grid, n_iter=10, cv= 4, random_state=0, n_jobs = -1)\n",
    "CV_rfc.fit(X_test,y_test)\n",
    "CV_rfc.best_params_\n",
    "\n"
   ]
  },
  {
   "cell_type": "code",
   "execution_count": 14,
   "id": "political-maintenance",
   "metadata": {},
   "outputs": [
    {
     "data": {
      "text/plain": [
       "{'mean_fit_time': array([27.76274759, 26.88674748, 73.2044962 , 55.14924771, 25.21574849,\n",
       "        55.18199706, 25.81650019, 46.5860008 , 36.2822504 , 27.80375051]),\n",
       " 'std_fit_time': array([11.76158249,  8.73206247,  6.54627651,  7.32273984, 11.37227351,\n",
       "         8.11791485,  2.4881013 ,  1.71554474,  2.29905763,  5.63245686]),\n",
       " 'mean_score_time': array([26.60474986, 20.19799966, 17.66650015, 14.02050024, 20.91825026,\n",
       "        15.05150008, 18.36949992,  1.13025057,  3.6420005 ,  1.24349982]),\n",
       " 'std_score_time': array([5.96515496, 6.48172304, 3.07162183, 0.33361444, 5.66039177,\n",
       "        2.70471875, 2.06854547, 0.61388203, 1.80124771, 0.9930277 ]),\n",
       " 'param_n_estimators': masked_array(data=[200, 200, 500, 200, 200, 200, 200, 200, 200, 200],\n",
       "              mask=[False, False, False, False, False, False, False, False,\n",
       "                    False, False],\n",
       "        fill_value='?',\n",
       "             dtype=object),\n",
       " 'param_max_features': masked_array(data=['auto', 'log2', 'auto', 'sqrt', 'log2', 'auto', 'sqrt',\n",
       "                    'sqrt', 'sqrt', 'sqrt'],\n",
       "              mask=[False, False, False, False, False, False, False, False,\n",
       "                    False, False],\n",
       "        fill_value='?',\n",
       "             dtype=object),\n",
       " 'param_max_depth': masked_array(data=[9, 10, 4, 5, 7, 6, 4, 6, 8, 5],\n",
       "              mask=[False, False, False, False, False, False, False, False,\n",
       "                    False, False],\n",
       "        fill_value='?',\n",
       "             dtype=object),\n",
       " 'param_criterion': masked_array(data=['gini', 'gini', 'entropy', 'entropy', 'gini',\n",
       "                    'entropy', 'gini', 'entropy', 'gini', 'gini'],\n",
       "              mask=[False, False, False, False, False, False, False, False,\n",
       "                    False, False],\n",
       "        fill_value='?',\n",
       "             dtype=object),\n",
       " 'params': [{'n_estimators': 200,\n",
       "   'max_features': 'auto',\n",
       "   'max_depth': 9,\n",
       "   'criterion': 'gini'},\n",
       "  {'n_estimators': 200,\n",
       "   'max_features': 'log2',\n",
       "   'max_depth': 10,\n",
       "   'criterion': 'gini'},\n",
       "  {'n_estimators': 500,\n",
       "   'max_features': 'auto',\n",
       "   'max_depth': 4,\n",
       "   'criterion': 'entropy'},\n",
       "  {'n_estimators': 200,\n",
       "   'max_features': 'sqrt',\n",
       "   'max_depth': 5,\n",
       "   'criterion': 'entropy'},\n",
       "  {'n_estimators': 200,\n",
       "   'max_features': 'log2',\n",
       "   'max_depth': 7,\n",
       "   'criterion': 'gini'},\n",
       "  {'n_estimators': 200,\n",
       "   'max_features': 'auto',\n",
       "   'max_depth': 6,\n",
       "   'criterion': 'entropy'},\n",
       "  {'n_estimators': 200,\n",
       "   'max_features': 'sqrt',\n",
       "   'max_depth': 4,\n",
       "   'criterion': 'gini'},\n",
       "  {'n_estimators': 200,\n",
       "   'max_features': 'sqrt',\n",
       "   'max_depth': 6,\n",
       "   'criterion': 'entropy'},\n",
       "  {'n_estimators': 200,\n",
       "   'max_features': 'sqrt',\n",
       "   'max_depth': 8,\n",
       "   'criterion': 'gini'},\n",
       "  {'n_estimators': 200,\n",
       "   'max_features': 'sqrt',\n",
       "   'max_depth': 5,\n",
       "   'criterion': 'gini'}],\n",
       " 'split0_test_score': array([0.678125, 0.677625, 0.65875 , 0.66175 , 0.667125, 0.6675  ,\n",
       "        0.66025 , 0.6675  , 0.673875, 0.667625]),\n",
       " 'split1_test_score': array([0.67925 , 0.678375, 0.658875, 0.663625, 0.66575 , 0.66825 ,\n",
       "        0.661625, 0.66825 , 0.675875, 0.666125]),\n",
       " 'split2_test_score': array([0.68275 , 0.6825  , 0.658375, 0.665   , 0.674625, 0.67275 ,\n",
       "        0.66425 , 0.67275 , 0.678875, 0.66675 ]),\n",
       " 'split3_test_score': array([0.688375, 0.68675 , 0.664875, 0.671375, 0.676375, 0.67675 ,\n",
       "        0.665875, 0.67675 , 0.6845  , 0.670875]),\n",
       " 'mean_test_score': array([0.682125  , 0.6813125 , 0.66021875, 0.6654375 , 0.67096875,\n",
       "        0.6713125 , 0.663     , 0.6713125 , 0.67828125, 0.66784375]),\n",
       " 'std_test_score': array([0.0039912 , 0.00364702, 0.00269458, 0.00361691, 0.00459906,\n",
       "        0.00372649, 0.00219552, 0.00372649, 0.0040072 , 0.00182939]),\n",
       " 'rank_test_score': array([ 1,  2, 10,  8,  6,  4,  9,  4,  3,  7])}"
      ]
     },
     "execution_count": 14,
     "metadata": {},
     "output_type": "execute_result"
    }
   ],
   "source": [
    "CV_rfc.cv_results_"
   ]
  },
  {
   "cell_type": "code",
   "execution_count": 30,
   "id": "physical-tongue",
   "metadata": {},
   "outputs": [
    {
     "name": "stdout",
     "output_type": "stream",
     "text": [
      "test: 0.608625\n",
      "train: 0.6740137062418966\n",
      "              precision    recall  f1-score   support\n",
      "\n",
      "         1.0       0.66      0.54      0.60      3541\n",
      "         2.0       0.67      0.68      0.67      4049\n",
      "         3.0       0.20      0.46      0.28       410\n",
      "\n",
      "    accuracy                           0.61      8000\n",
      "   macro avg       0.51      0.56      0.52      8000\n",
      "weighted avg       0.64      0.61      0.62      8000\n",
      "\n"
     ]
    }
   ],
   "source": [
    "forest = RandomForestClassifier(n_estimators=2000, max_features='log2', max_depth=6, \n",
    "                                criterion='entropy', n_jobs = -1, random_state = 0)\n",
    "forest.fit(smX, smY)\n",
    "Forest_pred = forest.predict(X_test)\n",
    "Forest_train_pred = forest.predict(smX)\n",
    "# Check accuracy of Random Forest\n",
    "print('test:', accuracy_score(y_test, Forest_pred))\n",
    "print('train:', accuracy_score(smY, Forest_train_pred))\n",
    "print(classification_report(y_test, Forest_pred))"
   ]
  },
  {
   "cell_type": "code",
   "execution_count": 20,
   "id": "moving-worthy",
   "metadata": {},
   "outputs": [
    {
     "name": "stdout",
     "output_type": "stream",
     "text": [
      "test: 0.5305\n",
      "train: 1.0\n",
      "              precision    recall  f1-score   support\n",
      "\n",
      "         1.0       0.56      0.52      0.54      3541\n",
      "         2.0       0.60      0.57      0.58      4049\n",
      "         3.0       0.11      0.24      0.15       410\n",
      "\n",
      "    accuracy                           0.53      8000\n",
      "   macro avg       0.42      0.44      0.43      8000\n",
      "weighted avg       0.56      0.53      0.54      8000\n",
      "\n"
     ]
    }
   ],
   "source": [
    "DT = DecisionTreeClassifier(random_state=0)\n",
    "DT.fit(smX, smY)\n",
    "DT_pred = DT.predict(X_test)\n",
    "DT_train_pred = DT.predict(smX)\n",
    "# Check accuracy of Random Forest\n",
    "print('test:', accuracy_score(y_test, DT_pred))\n",
    "print('train:', accuracy_score(smY, DT_train_pred))\n",
    "print(classification_report(y_test, DT_pred))"
   ]
  },
  {
   "cell_type": "code",
   "execution_count": 48,
   "id": "numerical-hunter",
   "metadata": {},
   "outputs": [],
   "source": [
    "test_y = []\n",
    "train_y = []\n",
    "\n",
    "for depth in range(1,11):\n",
    "    forest = RandomForestClassifier(n_estimators=1000, max_features='log2', max_depth=depth, \n",
    "                                criterion='entropy', n_jobs = -1, random_state = 0)\n",
    "    \n",
    "    forest.fit(smX, smY)\n",
    "    Forest_pred = forest.predict(X_test)\n",
    "    Forest_train_pred = forest.predict(smX)\n",
    "    \n",
    "    test_y.append(accuracy_score(y_test, Forest_pred))\n",
    "    train_y.append(accuracy_score(smY, Forest_train_pred))\n",
    "    \n",
    "    \n",
    "    \n"
   ]
  },
  {
   "cell_type": "markdown",
   "id": "sunrise-julian",
   "metadata": {},
   "source": [
    "Visualising acc as tree-depth increases. Depth is (index+1) "
   ]
  },
  {
   "cell_type": "code",
   "execution_count": 49,
   "id": "hawaiian-modem",
   "metadata": {},
   "outputs": [
    {
     "data": {
      "text/html": [
       "<div>\n",
       "<style scoped>\n",
       "    .dataframe tbody tr th:only-of-type {\n",
       "        vertical-align: middle;\n",
       "    }\n",
       "\n",
       "    .dataframe tbody tr th {\n",
       "        vertical-align: top;\n",
       "    }\n",
       "\n",
       "    .dataframe thead th {\n",
       "        text-align: right;\n",
       "    }\n",
       "</style>\n",
       "<table border=\"1\" class=\"dataframe\">\n",
       "  <thead>\n",
       "    <tr style=\"text-align: right;\">\n",
       "      <th></th>\n",
       "      <th>test_y</th>\n",
       "      <th>train_y</th>\n",
       "    </tr>\n",
       "  </thead>\n",
       "  <tbody>\n",
       "    <tr>\n",
       "      <th>0</th>\n",
       "      <td>0.538000</td>\n",
       "      <td>0.617357</td>\n",
       "    </tr>\n",
       "    <tr>\n",
       "      <th>1</th>\n",
       "      <td>0.555250</td>\n",
       "      <td>0.630796</td>\n",
       "    </tr>\n",
       "    <tr>\n",
       "      <th>2</th>\n",
       "      <td>0.578250</td>\n",
       "      <td>0.645510</td>\n",
       "    </tr>\n",
       "    <tr>\n",
       "      <th>3</th>\n",
       "      <td>0.596500</td>\n",
       "      <td>0.664053</td>\n",
       "    </tr>\n",
       "    <tr>\n",
       "      <th>4</th>\n",
       "      <td>0.609625</td>\n",
       "      <td>0.680846</td>\n",
       "    </tr>\n",
       "    <tr>\n",
       "      <th>5</th>\n",
       "      <td>0.623625</td>\n",
       "      <td>0.707621</td>\n",
       "    </tr>\n",
       "    <tr>\n",
       "      <th>6</th>\n",
       "      <td>0.635875</td>\n",
       "      <td>0.742010</td>\n",
       "    </tr>\n",
       "    <tr>\n",
       "      <th>7</th>\n",
       "      <td>0.648125</td>\n",
       "      <td>0.790908</td>\n",
       "    </tr>\n",
       "    <tr>\n",
       "      <th>8</th>\n",
       "      <td>0.660000</td>\n",
       "      <td>0.853841</td>\n",
       "    </tr>\n",
       "    <tr>\n",
       "      <th>9</th>\n",
       "      <td>0.671625</td>\n",
       "      <td>0.914367</td>\n",
       "    </tr>\n",
       "  </tbody>\n",
       "</table>\n",
       "</div>"
      ],
      "text/plain": [
       "     test_y   train_y\n",
       "0  0.538000  0.617357\n",
       "1  0.555250  0.630796\n",
       "2  0.578250  0.645510\n",
       "3  0.596500  0.664053\n",
       "4  0.609625  0.680846\n",
       "5  0.623625  0.707621\n",
       "6  0.635875  0.742010\n",
       "7  0.648125  0.790908\n",
       "8  0.660000  0.853841\n",
       "9  0.671625  0.914367"
      ]
     },
     "execution_count": 49,
     "metadata": {},
     "output_type": "execute_result"
    }
   ],
   "source": [
    "acc = {\n",
    "    'test_y': test_y,\n",
    "    'train_y': train_y\n",
    "}\n",
    "\n",
    "\n",
    "acc_df = pd.DataFrame(acc, columns = ['test_y','train_y'])\n",
    "acc_df\n"
   ]
  },
  {
   "cell_type": "markdown",
   "id": "linear-plumbing",
   "metadata": {},
   "source": [
    "### Learning Curve for RD {Accuracy vs max_depth}\n",
    "Makes sense, as the DTs become more complex within the forest. The model heads towards overfitting."
   ]
  },
  {
   "cell_type": "code",
   "execution_count": 23,
   "id": "necessary-graphics",
   "metadata": {},
   "outputs": [
    {
     "data": {
      "image/png": "[encoded data removed]",
      "text/plain": [
       "<Figure size 432x288 with 1 Axes>"
      ]
     },
     "metadata": {
      "needs_background": "light"
     },
     "output_type": "display_data"
    }
   ],
   "source": [
    "depth = [1,2,3,4,5,6,7,8,9,10]\n",
    "\n",
    "plt.plot(depth, train_y, label = \"train\")\n",
    "plt.plot(depth, test_y, label = \"test\")\n",
    "plt.xlabel('max_depth')\n",
    "plt.ylabel('accuracy')\n",
    "plt.legend()\n",
    "plt.show()"
   ]
  },
  {
   "cell_type": "code",
   "execution_count": null,
   "id": "requested-vatican",
   "metadata": {},
   "outputs": [],
   "source": []
  },
  {
   "cell_type": "code",
   "execution_count": null,
   "id": "received-commander",
   "metadata": {
    "scrolled": false
   },
   "outputs": [],
   "source": []
  },
  {
   "cell_type": "code",
   "execution_count": 45,
   "id": "authorized-scanner",
   "metadata": {},
   "outputs": [
    {
     "name": "stdout",
     "output_type": "stream",
     "text": [
      "0.3315\n"
     ]
    }
   ],
   "source": [
    "# Dummy Classifier\n",
    "from sklearn.dummy import DummyClassifier\n",
    "dummy_clf = DummyClassifier(strategy='stratified', random_state = 0)\n",
    "dummy_clf.fit(smX, smY)\n",
    "dummy_pred = dummy_clf.predict(X_test)\n",
    "# Check accuracy of Dummy\n",
    "print(accuracy_score(y_test, dummy_pred))"
   ]
  },
  {
   "cell_type": "markdown",
   "id": "laughing-mountain",
   "metadata": {},
   "source": [
    "### SVM\n",
    "The lower the C value in SVM the less penalty is associated with incorrect points and thus lower regularization."
   ]
  },
  {
   "cell_type": "code",
   "execution_count": 60,
   "id": "psychological-ballet",
   "metadata": {},
   "outputs": [
    {
     "data": {
      "text/plain": [
       "{'C': 26.36650898730366}"
      ]
     },
     "execution_count": 60,
     "metadata": {},
     "output_type": "execute_result"
    }
   ],
   "source": [
    "# Grid search\n",
    "parameters = {'C': np.logspace(-9, 2, 20)}\n",
    "\n",
    "\n",
    "svc = svm.LinearSVC(dual=False, multi_class='ovr', random_state=0)\n",
    "gridCV = GridSearchCV(svc, parameters)\n",
    "\n",
    "gridCV.fit(X_train, y_train)\n",
    "gridCV.best_params_"
   ]
  },
  {
   "cell_type": "code",
   "execution_count": 36,
   "id": "advised-straight",
   "metadata": {},
   "outputs": [
    {
     "data": {
      "text/plain": [
       "array([1.00000000e-10, 1.32194115e-10, 1.74752840e-10, 2.31012970e-10,\n",
       "       3.05385551e-10, 4.03701726e-10, 5.33669923e-10, 7.05480231e-10,\n",
       "       9.32603347e-10, 1.23284674e-09, 1.62975083e-09, 2.15443469e-09,\n",
       "       2.84803587e-09, 3.76493581e-09, 4.97702356e-09, 6.57933225e-09,\n",
       "       8.69749003e-09, 1.14975700e-08, 1.51991108e-08, 2.00923300e-08,\n",
       "       2.65608778e-08, 3.51119173e-08, 4.64158883e-08, 6.13590727e-08,\n",
       "       8.11130831e-08, 1.07226722e-07, 1.41747416e-07, 1.87381742e-07,\n",
       "       2.47707636e-07, 3.27454916e-07, 4.32876128e-07, 5.72236766e-07,\n",
       "       7.56463328e-07, 1.00000000e-06, 1.32194115e-06, 1.74752840e-06,\n",
       "       2.31012970e-06, 3.05385551e-06, 4.03701726e-06, 5.33669923e-06,\n",
       "       7.05480231e-06, 9.32603347e-06, 1.23284674e-05, 1.62975083e-05,\n",
       "       2.15443469e-05, 2.84803587e-05, 3.76493581e-05, 4.97702356e-05,\n",
       "       6.57933225e-05, 8.69749003e-05, 1.14975700e-04, 1.51991108e-04,\n",
       "       2.00923300e-04, 2.65608778e-04, 3.51119173e-04, 4.64158883e-04,\n",
       "       6.13590727e-04, 8.11130831e-04, 1.07226722e-03, 1.41747416e-03,\n",
       "       1.87381742e-03, 2.47707636e-03, 3.27454916e-03, 4.32876128e-03,\n",
       "       5.72236766e-03, 7.56463328e-03, 1.00000000e-02, 1.32194115e-02,\n",
       "       1.74752840e-02, 2.31012970e-02, 3.05385551e-02, 4.03701726e-02,\n",
       "       5.33669923e-02, 7.05480231e-02, 9.32603347e-02, 1.23284674e-01,\n",
       "       1.62975083e-01, 2.15443469e-01, 2.84803587e-01, 3.76493581e-01,\n",
       "       4.97702356e-01, 6.57933225e-01, 8.69749003e-01, 1.14975700e+00,\n",
       "       1.51991108e+00, 2.00923300e+00, 2.65608778e+00, 3.51119173e+00,\n",
       "       4.64158883e+00, 6.13590727e+00, 8.11130831e+00, 1.07226722e+01,\n",
       "       1.41747416e+01, 1.87381742e+01, 2.47707636e+01, 3.27454916e+01,\n",
       "       4.32876128e+01, 5.72236766e+01, 7.56463328e+01, 1.00000000e+02])"
      ]
     },
     "execution_count": 36,
     "metadata": {},
     "output_type": "execute_result"
    }
   ],
   "source": [
    "np.logspace(-10, 2, 100)"
   ]
  },
  {
   "cell_type": "code",
   "execution_count": 11,
   "id": "appointed-direction",
   "metadata": {},
   "outputs": [
    {
     "name": "stdout",
     "output_type": "stream",
     "text": [
      "test 0.624375\n",
      "train 0.6421765347492334\n",
      "              precision    recall  f1-score   support\n",
      "\n",
      "         1.0       0.79      0.41      0.54      3541\n",
      "         2.0       0.64      0.82      0.72      4049\n",
      "         3.0       0.23      0.55      0.32       410\n",
      "\n",
      "    accuracy                           0.62      8000\n",
      "   macro avg       0.55      0.59      0.53      8000\n",
      "weighted avg       0.69      0.62      0.62      8000\n",
      "\n"
     ]
    },
    {
     "data": {
      "text/plain": [
       "array([[1456, 1731,  354],\n",
       "       [ 342, 3315,  392],\n",
       "       [  40,  146,  224]], dtype=int64)"
      ]
     },
     "execution_count": 11,
     "metadata": {},
     "output_type": "execute_result"
    }
   ],
   "source": [
    "# # Plot learning curve\n",
    "\n",
    "\n",
    "# LinearSVC = svm.LinearSVC(dual=False, multi_class='ovr', random_state=0)\n",
    "# SVC_clf = make_pipeline(MinMaxScaler(), LinearSVC)\n",
    "SVC_clf = svm.LinearSVC(C=0.000001, dual=False, random_state=0)\n",
    "# plot_learning_curves(smX, smY, X_test, y_test, SVC_clf, scoring= 'accuracy')\n",
    "# plt.show()\n",
    "# Implementing LinearSVM from sklearn library\n",
    "# Similar to SVC with parameter kernel=’linear’, \n",
    "# scale better to large numbers of samples.\n",
    "# supports both dense and sparse input\n",
    "# multiclass support is handled according to a one-vs-the-rest scheme.\n",
    "# The more features the better\n",
    "from sklearn.pipeline import make_pipeline\n",
    "# LinearSVC = svm.LinearSVC(dual=False, multi_class='ovr', random_state=0)\n",
    "\n",
    "SVC_clf.fit(smX, smY)\n",
    "\n",
    "y_test_predict = SVC_clf.predict(X_test)\n",
    "y_train_predict = SVC_clf.predict(smX)\n",
    "# np.save('y_predict_name_sparse.npy', y_test_predict)\n",
    "print(\"test\", accuracy_score(y_test, y_test_predict))\n",
    "print(\"train\", accuracy_score(smY, y_train_predict))\n",
    "# print(LinearSVC_clf.score(X_test, y_test))\n",
    "\n",
    "\n",
    "\n",
    "\n",
    "# 0 score for precision, recall and f1 on class label 3...\n",
    "print(classification_report(y_test, y_test_predict))\n",
    "cm = confusion_matrix(y_test, y_test_predict)\n",
    "cm"
   ]
  },
  {
   "cell_type": "markdown",
   "id": "expired-fence",
   "metadata": {},
   "source": [
    "### AdaBoost"
   ]
  },
  {
   "cell_type": "code",
   "execution_count": 38,
   "id": "welcome-purple",
   "metadata": {},
   "outputs": [
    {
     "name": "stdout",
     "output_type": "stream",
     "text": [
      "0.6265\n",
      "0.7074766932147929\n",
      "              precision    recall  f1-score   support\n",
      "\n",
      "         1.0       0.67      0.60      0.64      3541\n",
      "         2.0       0.69      0.66      0.68      4049\n",
      "         3.0       0.22      0.51      0.30       410\n",
      "\n",
      "    accuracy                           0.63      8000\n",
      "   macro avg       0.53      0.59      0.54      8000\n",
      "weighted avg       0.66      0.63      0.64      8000\n",
      "\n"
     ]
    }
   ],
   "source": [
    "Adaboost = AdaBoostClassifier(base_estimator=DecisionTreeClassifier(max_depth=1,random_state=0), n_estimators=100, random_state=0)\n",
    "Adaboost.fit(smX, smY)\n",
    "Adaboost_pred = Adaboost.predict(X_test)\n",
    "Adaboost_train_pred = Adaboost.predict(smX)\n",
    "# Check accuracy of AdaBoost\n",
    "print(accuracy_score(y_test, Adaboost_pred))\n",
    "print(accuracy_score(smY, Adaboost_train_pred))\n",
    "print(classification_report(y_test, Adaboost_pred))"
   ]
  },
  {
   "cell_type": "markdown",
   "id": "negative-medicare",
   "metadata": {},
   "source": [
    "### Stacking"
   ]
  },
  {
   "cell_type": "code",
   "execution_count": null,
   "id": "sporting-circumstances",
   "metadata": {},
   "outputs": [],
   "source": [
    "# https://www.analyticsvidhya.com/blog/2020/10/how-to-use-stacking-to-choose-the-best-possible-algorithm/"
   ]
  },
  {
   "cell_type": "code",
   "execution_count": 21,
   "id": "specified-wilderness",
   "metadata": {},
   "outputs": [
    {
     "name": "stdout",
     "output_type": "stream",
     "text": [
      "0.5305\n",
      "0.9999588401144245\n"
     ]
    }
   ],
   "source": [
    "estimators = [\n",
    "     ('LinearSVC', SVC_clf),\n",
    "     ('Random Forest', forest),\n",
    "    ('Adaboost', Adaboost)]\n",
    "\n",
    "stacking_clf = StackingClassifier(estimators=estimators, final_estimator=LogisticRegression(n_jobs=-1, random_state=0), n_jobs=-1)\n",
    "stacking_clf.fit(smX, smY)\n",
    "stacking_y_pred = stacking_clf.predict(X_test)\n",
    "stacking_y_train_predict = stacking_clf.predict(smX)\n",
    "\n",
    "print(accuracy_score(y_test, stacking_y_pred))\n",
    "print(accuracy_score(smY, stacking_y_train_predict))"
   ]
  },
  {
   "cell_type": "markdown",
   "id": "naughty-receipt",
   "metadata": {},
   "source": [
    "### Opening and Testing with Real test data"
   ]
  },
  {
   "cell_type": "code",
   "execution_count": 41,
   "id": "quarterly-necessity",
   "metadata": {},
   "outputs": [
    {
     "data": {
      "text/plain": [
       "(10000, 302)"
      ]
     },
     "execution_count": 41,
     "metadata": {},
     "output_type": "execute_result"
    }
   ],
   "source": [
    "test_ingr = pd.read_csv(\"../data/COMP30027_2021_Project2_datasets/recipe_text_features_doc2vec100/test_ingr_doc2vec100.csv\", header=None)\n",
    "test_name = pd.read_csv(\"../data/COMP30027_2021_Project2_datasets/recipe_text_features_doc2vec100/test_name_doc2vec100.csv\", header=None)\n",
    "test_steps = pd.read_csv(\"../data/COMP30027_2021_Project2_datasets/recipe_text_features_doc2vec100/test_steps_doc2vec100.csv\", header=None)\n",
    "\n",
    "data_test = pd.read_csv('../data/COMP30027_2021_Project2_datasets/recipe_test.csv')\n",
    "\n",
    "\n",
    "t_data = test_name.join(data_test.iloc[:,1:3], on=None, how='left', lsuffix='_left', rsuffix='_right')\n",
    "t_data = t_data.join(test_steps, on=None, how='left', lsuffix='_left', rsuffix='_right')\n",
    "t_data = t_data.join(test_ingr, on=None, how='left', lsuffix='_left', rsuffix='_right')\n",
    "\n",
    "\n",
    "scaler = MinMaxScaler()\n",
    "t_data = scaler.fit_transform(t_data)\n",
    "# t_data = select.transform(t_data)\n",
    "t_data.shape"
   ]
  },
  {
   "cell_type": "code",
   "execution_count": 42,
   "id": "alpine-branch",
   "metadata": {},
   "outputs": [],
   "source": [
    "real_pred = stacking_clf.predict(t_data)\n",
    "real_pred\n",
    "\n",
    "\n",
    "a = [x for x in range(1,10001)]\n",
    "\n",
    "result = {\n",
    "    'id': a,\n",
    "    'duration_label': real_pred\n",
    "}\n",
    "result = pd.DataFrame(result)\n",
    "result.to_csv('result.csv', index = False)"
   ]
  }
 ],
 "metadata": {
  "kernelspec": {
   "display_name": "Python 3",
   "language": "python",
   "name": "python3"
  },
  "language_info": {
   "codemirror_mode": {
    "name": "ipython",
    "version": 3
   },
   "file_extension": ".py",
   "mimetype": "text/x-python",
   "name": "python",
   "nbconvert_exporter": "python",
   "pygments_lexer": "ipython3",
   "version": "3.8.8"
  }
 },
 "nbformat": 4,
 "nbformat_minor": 5
}
